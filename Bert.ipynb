{
 "cells": [
  {
   "cell_type": "markdown",
   "metadata": {
    "id": "5tr_jEBnh-jv"
   },
   "source": [
    "# BERT: Pre-training of Deep Bidirectional Transformers for Language Understanding\n",
    "\n",
    "#### Group Member Names : Steve Kuruvilla (200573392) and Shrasth Kumar (200566998)\n",
    "\n"
   ]
  },
  {
   "cell_type": "markdown",
   "metadata": {
    "id": "PeKSxMvrh-j0"
   },
   "source": [
    "### INTRODUCTION:\n",
    "*********************************************************************************************************************\n",
    "The paper introduces BERT, which stands for Bidirectional Encoder Representations from Transformers. BERT is a new model for understanding language. Unlike older models, BERT looks at words from both directions (left and right) at the same time. This helps it understand the context better. BERT can be fine-tuned for different tasks like answering questions or understanding sentences with just a small adjustment. Language model pre-training has been shown to be effective for improving many natural language processing tasks. These tasks include sentence-level tasks such as natural language inference and paraphrasing, which aim to predict the relationships between sentences by analyzing them holistically, as well as token-level tasks such as named entity recognition and question answering, where models are required to produce fine-grained output at the token level.\n",
    "#### AIM :\n",
    "*********************************************************************************************************************\n",
    "The goal of the paper is to show that BERT's way of looking at words from both directions at once is very effective. The authors want to prove that BERT can achieve top results on many language tasks by making only small changes to the model for each task.\n",
    "#### Github Repo:\n",
    "*********************************************************************************************************************\n",
    "https://github.com/google-research/bert\n",
    "#### DESCRIPTION OF PAPER:\n",
    "*********************************************************************************************************************\n",
    "The paper explains how BERT is built and trained. There are two main steps:\n",
    "\n",
    "- Pre-training: BERT is trained on a large amount of text data without labels. It learns to predict missing words and understand the relationship between sentences.\n",
    "- Fine-tuning: BERT is then adjusted for specific tasks using labeled data. This step is quick and requires fewer changes to the model.\n",
    "\n",
    "Pre-training\n",
    "\n",
    "- Masked Language Model (MLM): BERT randomly hides some words in a sentence and trains the model to predict them using the context from both directions. This helps BERT learn deep, bidirectional representations.\n",
    "- Sentence Prediction (NSP): BERT also learns to understand the relationship between sentences. It is trained to predict if one sentence follows another in the text.\n",
    "\n",
    "\n",
    "The pre-training procedure largely follows the existing literature on language model pre-training. For the pre-training corpus, BERT uses the BooksCorpus (800M words) and English Wikipedia (2,500M words). For Wikipedia, only the text passages are extracted, ignoring lists, tables, and headers. It is critical to use a document-level corpus rather than a shuffled sentence-level corpus to extract long contiguous sequences.\n",
    "\n",
    "The pre-training process involves two main tasks:\n",
    "\n",
    "- Masked Language Model (MLM): In this task, 15% of the words in each sequence are randomly masked, and the model is trained to predict these masked words based on their context. This allows the model to learn bidirectional representations.\n",
    "- Sentence Prediction (NSP): This task involves predicting whether a given sentence B follows sentence A in the original text. This helps the model understand the relationship between sentences.\n",
    "\n",
    "\n",
    "Fine-tuning\n",
    "\n",
    "\n",
    "- BERT is fine-tuned for specific tasks by adding a small number of task-specific parameters. This process is relatively quick and allows BERT to adapt to various tasks like question answering, sentence classification, and more.\n",
    "\n",
    "\n",
    "Fine-tuning is straightforward since the self-attention mechanism in the Transformer allows BERT to model many downstream tasks—whether they involve single text or text pairs—by swapping out the appropriate inputs and outputs. For applications involving text pairs, a common pattern is to independently encode text pairs before applying bidirectional cross attention. BERT instead uses the self-attention mechanism to unify these two stages, as encoding a concatenated text pair with self-attention effectively includes bidirectional cross attention between two sentences.\n",
    "#### PROBLEM STATEMENT :\n",
    "*********************************************************************************************************************\n",
    "Traditional language models only look at words in one direction (left-to-right or right-to-left). This limits their ability to understand the full context of a sentence. For example, in a left-to-right model, each word can only see the words that come before it, not after.\n",
    "#### CONTEXT OF THE PROBLEM:\n",
    "*********************************************************************************************************************\n",
    "Previous models like ELMo and OpenAI GPT have shown that pre-training on large text data helps improve performance on language tasks. However, these models either combine two separate one-directional models or use only one direction, which is not ideal for understanding context fully.\n",
    "\n",
    "There are two existing strategies for applying pre-trained language representations to downstream tasks: feature-based and fine-tuning. The feature-based approach, such as ELMo, uses task-specific architectures that include the pre-trained representations as additional features. The fine-tuning approach, such as the Generative Pre-trained Transformer (OpenAI GPT), introduces minimal task-specific parameters and is trained on the downstream tasks by simply fine-tuning all pre-trained parameters. The two approaches share the same objective function during pre-training, where they use unidirectional language models to learn general language representations.\n",
    "#### SOLUTION:\n",
    "BERT solves this problem by using a \"masked language model\" (MLM) approach. It randomly hides some words in a sentence and trains the model to predict them using the context from both directions. BERT also uses a \"next sentence prediction\" (NSP) task to understand the relationship between sentences. These methods help BERT learn deep, bidirectional representations, making it very effective for various language tasks.\n",
    "\n",
    "BERT alleviates the unidirectionality constraint by using a “masked language model” (MLM) pre-training objective, inspired by the Cloze task. The masked language model randomly masks some of the tokens from the input, and the objective is to predict the original vocabulary id of the masked word based only on its context. Unlike left-to-right language model pre-training, the MLM objective enables the representation to fuse the left and the right context, which allows pre-training a deep bidirectional Transformer. In addition to the masked language model, BERT also uses a “next sentence prediction” task that jointly pre-trains text-pair representations.\n"
   ]
  },
  {
   "cell_type": "markdown",
   "metadata": {
    "id": "77PIPLQ-h-j1"
   },
   "source": [
    "# Background\n",
    "\n",
    "| **Reference** | **Explanation** | **Dataset/Input** | **Weakness** |\n",
    "|---------------|-----------------|-------------------|--------------|\n",
    "| Devlin, J., Chang, M.-W., Lee, K., & Toutanova, K. (2019). BERT: Pre-training of Deep Bidirectional Transformers for Language Understanding. arXiv:1810.04805v2 | The paper introduces BERT, a model that pre-trains deep bidirectional representations by jointly conditioning on both left and right context in all layers. BERT can be fine-tuned with just one additional output layer to create state-of-the-art models for a wide range of tasks. | BERT is pre-trained on the BooksCorpus (800M words) and English Wikipedia (2,500M words). The input representation uses WordPiece embeddings with a 30,000 token vocabulary. | BERT's pre-training is computationally expensive and requires significant resources. The model size can be large, making it difficult to deploy in resource-constrained environments. |"
   ]
  },
  {
   "cell_type": "markdown",
   "metadata": {
    "id": "deODH3tMh-j2"
   },
   "source": [
    "# Implement paper code :\n",
    "*********************************************************************************************************************\n",
    "\n",
    "\n"
   ]
  },
  {
   "cell_type": "markdown",
   "metadata": {
    "id": "3AYuQRnMgz3v"
   },
   "source": [
    "Note: All results on the paper were fine-tuned on a single Cloud TPU, which has 64GB of RAM. It is currently not possible to re-produce most of the BERT-Large results on the paper using a GPU with 12GB - 16GB of RAM, because the maximum batch size that can fit in memory is too small. We are working on adding code to this repository which allows for much larger effective batch size on the GPU. See the section on out-of-memory issues for more details.\n",
    "\n",
    "We worked with a similar dataset, dividing it into smaller chunks to facilitate smoother execution of the code."
   ]
  },
  {
   "cell_type": "markdown",
   "metadata": {
    "id": "u9aLqr4tiR9Z"
   },
   "source": [
    "Import the Necessary Libraries"
   ]
  },
  {
   "cell_type": "code",
   "execution_count": null,
   "metadata": {
    "id": "AZj-rQdAiR9Z"
   },
   "outputs": [],
   "source": [
    "from transformers import BertTokenizer, BertForSequenceClassification, Trainer, TrainingArguments\n",
    "from datasets import load_dataset\n",
    "import evaluate\n",
    "import torch\n",
    "import numpy as np\n",
    "from sklearn.model_selection import train_test_split\n",
    "import warnings\n",
    "warnings.filterwarnings(\"ignore\")"
   ]
  },
  {
   "cell_type": "markdown",
   "metadata": {
    "id": "gCHghBwpiR9a"
   },
   "source": [
    "Load and Preprocess the Dataset"
   ]
  },
  {
   "cell_type": "code",
   "execution_count": null,
   "metadata": {
    "id": "gFCMC--5iR9a"
   },
   "outputs": [],
   "source": [
    "dataset = load_dataset(\"imdb\")\n",
    "dataset = dataset.shuffle(seed=42)  # Shuffle the dataset\n",
    "\n",
    "# Step 2: Load Tokenizer and Model\n",
    "tokenizer = BertTokenizer.from_pretrained(\"bert-base-uncased\")"
   ]
  },
  {
   "cell_type": "markdown",
   "metadata": {
    "id": "lyPeQGzNiR9a"
   },
   "source": [
    "Load the Pre-trained BERT Model"
   ]
  },
  {
   "cell_type": "code",
   "execution_count": null,
   "metadata": {
    "colab": {
     "base_uri": "https://localhost:8080/",
     "height": 232,
     "referenced_widgets": [
      "056dae4606ed44459c75962071599945",
      "c86608b353e6420db9f16a88e8634505",
      "e6b561db9d7f4d4dab2be80673c7396b",
      "d3a95339aaa14d58bb56e3e815dd159c",
      "0e8fdf5be4684826a0cf2b94be9bc601",
      "173fcda55a0b451dbaf42a91b3afc378",
      "78da8bd05bb04990a2acef11f31c636f",
      "5282edd8e3c04b3793efa816a655dd67",
      "c319c88576554f1f943f7bf27b50cc62",
      "f9eede3732d045f6b28f1b6f3421afdd",
      "1975d46dafce40b6805c01a81932b53c",
      "568f370d036a4f1aaa206e18184cc0b8",
      "dc51469e21604cb097fbd30ecf3f6a0c",
      "d25f35a396414bdfa51db9a225a53af6",
      "7c968f8f6ab7438b8dfbe40192716a14",
      "76654c7ed6e141cb9f1805ded1f461a5",
      "b69867fdffbf4491a03c6428ab0c24e7",
      "1614aede345e4b1a8808eb2d08373fb1",
      "b21259fd93dd4434a06cb010ae1cb57c",
      "d09bb1f0f49f417788c2eed5de327681",
      "53de8cfbb34f40f1a19085333739e723",
      "180a3089bac44f4fb95c418b9736c506",
      "c82491b1326247058142da13c64bee6a",
      "8ea9cdd0a92443129441a4a5022125a2",
      "2f834e5a9b63429d8002ef12f8fc5006",
      "46b595f57bd84c0fbe793e121dbed30e",
      "4878df7ed1e8471dbcc78935dbc57abb",
      "65ec141d27fa440b9e29180201f9d268",
      "862ad6067b8140198d9bae22b118f164",
      "b6357e3c29f24c278747b7847f836488",
      "8e99ee21af3d443ea039455e83bbffa9",
      "68657879268a47cbaca3ce976058964a",
      "50d1325c5e534a14a5c5c2f15faa95a0",
      "ba918230f75d4b71b3a15e1590800900",
      "e5fd25930c9148fd96174d7e2aea6433",
      "ab9d7f284a10438c8d0d1fbfde97f82d",
      "e64a0c05e296470caa29826935bd307e",
      "4598483bb1b3400f98d5569f65985634",
      "e8d2d33ea81042babe19735f17cb8d2a",
      "1172b201d5d14a02b988594dad091656",
      "7f2319271e2c4f9da4479c4a62efcafa",
      "88591801df98435eb99e29f4f75644c7",
      "6bc6db8630d04c0ab03d494daca75a1a",
      "b94ebbe784bc410f8d58d71681361756",
      "f2438baaf6334cc487d768b8345b2470",
      "4f7ac70d3ec84609b2556f75fb666887",
      "4760ba2558d5499581ab2166ce8e1120",
      "3c4c6e7e1f0a47aa8f5b34cf90978c46",
      "2e0a0b6416e34a119f74bc8b7d9aeb52",
      "d5d0ad9e391d404480afb6b89e9e7eb4",
      "0087fa612b45411d89ad3e46a431650e",
      "8a4d249075b545808684dcbf491f2cf0",
      "bd509cee25dd4f9fb7cdb643eb0a6bbe",
      "f2cf6cef1d3e4ea4b972af9a940a0700",
      "3bfc3f1a19944d2995bfe9e41df99867"
     ]
    },
    "id": "cWu2okyMiR9a",
    "outputId": "6a01e3fd-3d8d-428a-90cf-67e19198b498"
   },
   "outputs": [
    {
     "name": "stderr",
     "output_type": "stream",
     "text": [
      "Some weights of BertForSequenceClassification were not initialized from the model checkpoint at bert-base-uncased and are newly initialized: ['classifier.bias', 'classifier.weight']\n",
      "You should probably TRAIN this model on a down-stream task to be able to use it for predictions and inference.\n"
     ]
    }
   ],
   "source": [
    "model = BertForSequenceClassification.from_pretrained(\"bert-base-uncased\", num_labels=2)\n",
    "# Step 3: Tokenize the Dataset\n",
    "def preprocess_data(examples):\n",
    "    return tokenizer(examples[\"text\"], truncation=True, padding=\"max_length\", max_length=512)\n",
    "\n",
    "tokenized_dataset = dataset.map(preprocess_data, batched=True)\n",
    "\n",
    "# Step 4: Prepare Dataset for Training\n",
    "# Split into train and test\n",
    "small_train_dataset = tokenized_dataset[\"train\"].select(range(2000))  # Subset for faster training\n",
    "small_test_dataset = tokenized_dataset[\"test\"].select(range(1000))\n",
    "\n",
    "# Convert to PyTorch format\n",
    "small_train_dataset.set_format(type=\"torch\", columns=[\"input_ids\", \"attention_mask\", \"label\"])\n",
    "small_test_dataset.set_format(type=\"torch\", columns=[\"input_ids\", \"attention_mask\", \"label\"])\n",
    "\n",
    "metric = evaluate.load(\"accuracy\")\n",
    "\n",
    "def compute_metrics(eval_pred):\n",
    "    logits, labels = eval_pred\n",
    "    predictions = np.argmax(logits, axis=-1)\n",
    "    return metric.compute(predictions=predictions, references=labels)"
   ]
  },
  {
   "cell_type": "markdown",
   "metadata": {
    "id": "1TZGOqrwiR9a"
   },
   "source": [
    "Define the Training Arguments"
   ]
  },
  {
   "cell_type": "code",
   "execution_count": null,
   "metadata": {
    "id": "qwDCs3AaiR9a"
   },
   "outputs": [],
   "source": [
    "# Step 6: Set Training Arguments\n",
    "training_args = TrainingArguments(\n",
    "    output_dir=\"./results\",\n",
    "    evaluation_strategy=\"epoch\",\n",
    "    learning_rate=2e-5,\n",
    "    per_device_train_batch_size=16,\n",
    "    per_device_eval_batch_size=16,\n",
    "    num_train_epochs=3,\n",
    "    weight_decay=0.01,\n",
    "    logging_dir=\"./logs\",\n",
    "    logging_steps=10,\n",
    "    save_steps=500,\n",
    ")"
   ]
  },
  {
   "cell_type": "markdown",
   "metadata": {
    "id": "strJuyFpiR9a"
   },
   "source": [
    "Define the Trainer"
   ]
  },
  {
   "cell_type": "code",
   "execution_count": null,
   "metadata": {
    "id": "_h8M7xDpiR9a"
   },
   "outputs": [],
   "source": [
    "# Step 7: Initialize Trainer\n",
    "trainer = Trainer(\n",
    "    model=model,\n",
    "    args=training_args,\n",
    "    train_dataset=small_train_dataset,\n",
    "    eval_dataset=small_test_dataset,\n",
    "    compute_metrics=compute_metrics,\n",
    ")"
   ]
  },
  {
   "cell_type": "markdown",
   "metadata": {
    "id": "B7pcx0WqiR9b"
   },
   "source": [
    "Train the Model"
   ]
  },
  {
   "cell_type": "code",
   "execution_count": null,
   "metadata": {
    "colab": {
     "base_uri": "https://localhost:8080/",
     "height": 380,
     "referenced_widgets": [
      "b50f8b94e385420ebf66ca89f129f162",
      "45318c5bfeda449db67b59ffa10e64e0",
      "42ccebf659e64055a5e39c0f717e9e2e",
      "add28134e0954f67bad52615bae1c71e"
     ]
    },
    "id": "Ot72uMJUkL7v",
    "outputId": "1713e9e6-1249-42b9-dcb5-4d0b310c2378"
   },
   "outputs": [
    {
     "data": {
      "application/vnd.jupyter.widget-view+json": {
       "model_id": "b50f8b94e385420ebf66ca89f129f162",
       "version_major": 2,
       "version_minor": 0
      },
      "text/plain": [
       "  0%|          | 0/375 [00:00<?, ?it/s]"
      ]
     },
     "metadata": {},
     "output_type": "display_data"
    },
    {
     "name": "stdout",
     "output_type": "stream",
     "text": [
      "{'loss': 0.7016, 'grad_norm': 3.876843214035034, 'learning_rate': 1.9466666666666668e-05, 'epoch': 0.08}\n",
      "{'loss': 0.6698, 'grad_norm': 3.386240243911743, 'learning_rate': 1.8933333333333334e-05, 'epoch': 0.16}\n",
      "{'loss': 0.5635, 'grad_norm': 11.519011497497559, 'learning_rate': 1.8400000000000003e-05, 'epoch': 0.24}\n",
      "{'loss': 0.4586, 'grad_norm': 10.51939868927002, 'learning_rate': 1.7866666666666666e-05, 'epoch': 0.32}\n",
      "{'loss': 0.3355, 'grad_norm': 13.908117294311523, 'learning_rate': 1.7333333333333336e-05, 'epoch': 0.4}\n",
      "{'loss': 0.3175, 'grad_norm': 6.171494483947754, 'learning_rate': 1.6800000000000002e-05, 'epoch': 0.48}\n",
      "{'loss': 0.4593, 'grad_norm': 4.455982208251953, 'learning_rate': 1.6266666666666668e-05, 'epoch': 0.56}\n",
      "{'loss': 0.4387, 'grad_norm': 11.693072319030762, 'learning_rate': 1.5733333333333334e-05, 'epoch': 0.64}\n",
      "{'loss': 0.3395, 'grad_norm': 3.9201536178588867, 'learning_rate': 1.5200000000000002e-05, 'epoch': 0.72}\n",
      "{'loss': 0.3903, 'grad_norm': 1.8896589279174805, 'learning_rate': 1.4666666666666666e-05, 'epoch': 0.8}\n",
      "{'loss': 0.3149, 'grad_norm': 10.03005313873291, 'learning_rate': 1.4133333333333334e-05, 'epoch': 0.88}\n",
      "{'loss': 0.2198, 'grad_norm': 11.648200035095215, 'learning_rate': 1.3600000000000002e-05, 'epoch': 0.96}\n"
     ]
    },
    {
     "data": {
      "application/vnd.jupyter.widget-view+json": {
       "model_id": "45318c5bfeda449db67b59ffa10e64e0",
       "version_major": 2,
       "version_minor": 0
      },
      "text/plain": [
       "  0%|          | 0/63 [00:00<?, ?it/s]"
      ]
     },
     "metadata": {},
     "output_type": "display_data"
    },
    {
     "name": "stdout",
     "output_type": "stream",
     "text": [
      "{'eval_loss': 0.2945755124092102, 'eval_accuracy': 0.887, 'eval_runtime': 18.0458, 'eval_samples_per_second': 55.415, 'eval_steps_per_second': 3.491, 'epoch': 1.0}\n",
      "{'loss': 0.2982, 'grad_norm': 7.0146942138671875, 'learning_rate': 1.3066666666666668e-05, 'epoch': 1.04}\n",
      "{'loss': 0.2329, 'grad_norm': 9.14195442199707, 'learning_rate': 1.2533333333333336e-05, 'epoch': 1.12}\n",
      "{'loss': 0.2136, 'grad_norm': 2.693035125732422, 'learning_rate': 1.2e-05, 'epoch': 1.2}\n",
      "{'loss': 0.3064, 'grad_norm': 17.171573638916016, 'learning_rate': 1.1466666666666668e-05, 'epoch': 1.28}\n",
      "{'loss': 0.2001, 'grad_norm': 2.74468731880188, 'learning_rate': 1.0933333333333334e-05, 'epoch': 1.36}\n",
      "{'loss': 0.1449, 'grad_norm': 5.393118381500244, 'learning_rate': 1.04e-05, 'epoch': 1.44}\n",
      "{'loss': 0.2129, 'grad_norm': 0.6629940867424011, 'learning_rate': 9.866666666666668e-06, 'epoch': 1.52}\n",
      "{'loss': 0.1892, 'grad_norm': 0.7482621669769287, 'learning_rate': 9.333333333333334e-06, 'epoch': 1.6}\n",
      "{'loss': 0.2185, 'grad_norm': 13.0829439163208, 'learning_rate': 8.8e-06, 'epoch': 1.68}\n",
      "{'loss': 0.1648, 'grad_norm': 17.903533935546875, 'learning_rate': 8.266666666666667e-06, 'epoch': 1.76}\n",
      "{'loss': 0.2768, 'grad_norm': 2.4382121562957764, 'learning_rate': 7.733333333333334e-06, 'epoch': 1.84}\n",
      "{'loss': 0.1268, 'grad_norm': 6.3202667236328125, 'learning_rate': 7.2000000000000005e-06, 'epoch': 1.92}\n",
      "{'loss': 0.1443, 'grad_norm': 10.679859161376953, 'learning_rate': 6.666666666666667e-06, 'epoch': 2.0}\n"
     ]
    },
    {
     "data": {
      "application/vnd.jupyter.widget-view+json": {
       "model_id": "42ccebf659e64055a5e39c0f717e9e2e",
       "version_major": 2,
       "version_minor": 0
      },
      "text/plain": [
       "  0%|          | 0/63 [00:00<?, ?it/s]"
      ]
     },
     "metadata": {},
     "output_type": "display_data"
    },
    {
     "name": "stdout",
     "output_type": "stream",
     "text": [
      "{'eval_loss': 0.33226478099823, 'eval_accuracy': 0.897, 'eval_runtime': 18.1442, 'eval_samples_per_second': 55.114, 'eval_steps_per_second': 3.472, 'epoch': 2.0}\n",
      "{'loss': 0.1687, 'grad_norm': 7.559726715087891, 'learning_rate': 6.133333333333334e-06, 'epoch': 2.08}\n",
      "{'loss': 0.0877, 'grad_norm': 0.436178594827652, 'learning_rate': 5.600000000000001e-06, 'epoch': 2.16}\n",
      "{'loss': 0.0649, 'grad_norm': 0.3581981062889099, 'learning_rate': 5.0666666666666676e-06, 'epoch': 2.24}\n",
      "{'loss': 0.0786, 'grad_norm': 0.36844876408576965, 'learning_rate': 4.533333333333334e-06, 'epoch': 2.32}\n",
      "{'loss': 0.1455, 'grad_norm': 0.24374045431613922, 'learning_rate': 4.000000000000001e-06, 'epoch': 2.4}\n",
      "{'loss': 0.1487, 'grad_norm': 0.7597115635871887, 'learning_rate': 3.4666666666666672e-06, 'epoch': 2.48}\n",
      "{'loss': 0.1205, 'grad_norm': 21.27876091003418, 'learning_rate': 2.9333333333333338e-06, 'epoch': 2.56}\n",
      "{'loss': 0.0465, 'grad_norm': 0.15641352534294128, 'learning_rate': 2.4000000000000003e-06, 'epoch': 2.64}\n",
      "{'loss': 0.211, 'grad_norm': 12.143667221069336, 'learning_rate': 1.8666666666666669e-06, 'epoch': 2.72}\n",
      "{'loss': 0.1907, 'grad_norm': 5.627591133117676, 'learning_rate': 1.3333333333333334e-06, 'epoch': 2.8}\n",
      "{'loss': 0.062, 'grad_norm': 28.949935913085938, 'learning_rate': 8.000000000000001e-07, 'epoch': 2.88}\n",
      "{'loss': 0.0672, 'grad_norm': 0.37197190523147583, 'learning_rate': 2.666666666666667e-07, 'epoch': 2.96}\n"
     ]
    },
    {
     "data": {
      "application/vnd.jupyter.widget-view+json": {
       "model_id": "add28134e0954f67bad52615bae1c71e",
       "version_major": 2,
       "version_minor": 0
      },
      "text/plain": [
       "  0%|          | 0/63 [00:00<?, ?it/s]"
      ]
     },
     "metadata": {},
     "output_type": "display_data"
    },
    {
     "name": "stdout",
     "output_type": "stream",
     "text": [
      "{'eval_loss': 0.3602063059806824, 'eval_accuracy': 0.904, 'eval_runtime': 18.1707, 'eval_samples_per_second': 55.034, 'eval_steps_per_second': 3.467, 'epoch': 3.0}\n",
      "{'train_runtime': 417.376, 'train_samples_per_second': 14.376, 'train_steps_per_second': 0.898, 'train_loss': 0.25010021376609803, 'epoch': 3.0}\n"
     ]
    },
    {
     "data": {
      "text/plain": [
       "TrainOutput(global_step=375, training_loss=0.25010021376609803, metrics={'train_runtime': 417.376, 'train_samples_per_second': 14.376, 'train_steps_per_second': 0.898, 'total_flos': 1578666332160000.0, 'train_loss': 0.25010021376609803, 'epoch': 3.0})"
      ]
     },
     "execution_count": 11,
     "metadata": {},
     "output_type": "execute_result"
    }
   ],
   "source": [
    "trainer.train()"
   ]
  },
  {
   "cell_type": "markdown",
   "metadata": {
    "id": "HXCD97xhiR9b"
   },
   "source": [
    "Evaluate the Model"
   ]
  },
  {
   "cell_type": "code",
   "execution_count": null,
   "metadata": {
    "colab": {
     "base_uri": "https://localhost:8080/",
     "height": 141,
     "referenced_widgets": [
      "0030c1c5f5f04711ac3aeef942752ec0"
     ]
    },
    "id": "LnApfoPQkM5O",
    "outputId": "76df1dcc-de6d-4e62-b244-b9153e1cdfc8"
   },
   "outputs": [
    {
     "data": {
      "application/vnd.jupyter.widget-view+json": {
       "model_id": "0030c1c5f5f04711ac3aeef942752ec0",
       "version_major": 2,
       "version_minor": 0
      },
      "text/plain": [
       "  0%|          | 0/63 [00:00<?, ?it/s]"
      ]
     },
     "metadata": {},
     "output_type": "display_data"
    },
    {
     "data": {
      "text/plain": [
       "{'eval_loss': 0.3602063059806824,\n",
       " 'eval_accuracy': 0.904,\n",
       " 'eval_runtime': 18.115,\n",
       " 'eval_samples_per_second': 55.203,\n",
       " 'eval_steps_per_second': 3.478,\n",
       " 'epoch': 3.0}"
      ]
     },
     "execution_count": 12,
     "metadata": {},
     "output_type": "execute_result"
    }
   ],
   "source": [
    "trainer.evaluate()"
   ]
  },
  {
   "cell_type": "markdown",
   "metadata": {
    "id": "MlFuHNqWiR9b"
   },
   "source": [
    "Make Predictions"
   ]
  },
  {
   "cell_type": "code",
   "execution_count": null,
   "metadata": {
    "colab": {
     "base_uri": "https://localhost:8080/"
    },
    "id": "yBr-QRc2kKtn",
    "outputId": "c5572a2a-31ae-4971-e0e3-e2b5a866f6c1"
   },
   "outputs": [
    {
     "name": "stdout",
     "output_type": "stream",
     "text": [
      "Predicted Sentiment: Positive\n"
     ]
    }
   ],
   "source": [
    "# Step 9: Test Inference\n",
    "test_sentence = \"This movie was fantastic! The acting was great and the story was gripping.\"\n",
    "inputs = tokenizer(test_sentence, return_tensors=\"pt\", truncation=True, padding=\"max_length\", max_length=512)\n",
    "\n",
    "# Move inputs to the same device as the model\n",
    "device = torch.device(\"cuda:0\" if torch.cuda.is_available() else \"cpu\") # Get the device\n",
    "inputs = {k: v.to(device) for k, v in inputs.items()}  # Move inputs to device\n",
    "\n",
    "outputs = model(**inputs)\n",
    "predicted_class = torch.argmax(outputs.logits).item()\n",
    "\n",
    "print(f\"Predicted Sentiment: {'Positive' if predicted_class == 1 else 'Negative'}\")"
   ]
  },
  {
   "cell_type": "markdown",
   "metadata": {
    "id": "2gkHhku9h-j2"
   },
   "source": [
    "*********************************************************************************************************************\n",
    "### Contribution  Code :\n"
   ]
  },
  {
   "cell_type": "code",
   "execution_count": null,
   "metadata": {
    "id": "AAqqMrPj1nzJ",
    "outputId": "f374be59-847a-4dc1-ee65-f11a6db5e8fd"
   },
   "outputs": [
    {
     "name": "stderr",
     "output_type": "stream",
     "text": [
      "2024-12-07 22:54:12.777757: I tensorflow/core/util/port.cc:153] oneDNN custom operations are on. You may see slightly different numerical results due to floating-point round-off errors from different computation orders. To turn them off, set the environment variable `TF_ENABLE_ONEDNN_OPTS=0`.\n",
      "2024-12-07 22:54:12.787484: E external/local_xla/xla/stream_executor/cuda/cuda_fft.cc:477] Unable to register cuFFT factory: Attempting to register factory for plugin cuFFT when one has already been registered\n",
      "WARNING: All log messages before absl::InitializeLog() is called are written to STDERR\n",
      "E0000 00:00:1733630052.799213    9264 cuda_dnn.cc:8310] Unable to register cuDNN factory: Attempting to register factory for plugin cuDNN when one has already been registered\n",
      "E0000 00:00:1733630052.802659    9264 cuda_blas.cc:1418] Unable to register cuBLAS factory: Attempting to register factory for plugin cuBLAS when one has already been registered\n",
      "2024-12-07 22:54:12.815029: I tensorflow/core/platform/cpu_feature_guard.cc:210] This TensorFlow binary is optimized to use available CPU instructions in performance-critical operations.\n",
      "To enable the following instructions: AVX2 AVX_VNNI FMA, in other operations, rebuild TensorFlow with the appropriate compiler flags.\n"
     ]
    }
   ],
   "source": [
    "# Import Libraries\n",
    "from transformers import BertTokenizer, BertForSequenceClassification, Trainer, TrainingArguments\n",
    "from datasets import load_dataset\n",
    "import evaluate\n",
    "import torch\n",
    "import numpy as np\n",
    "from torch import nn\n",
    "from torch.utils.data import DataLoader, Dataset\n",
    "import torch.optim as optim"
   ]
  },
  {
   "cell_type": "code",
   "execution_count": null,
   "metadata": {
    "id": "-KLT2zhM2H-e"
   },
   "outputs": [],
   "source": [
    "# Load the IMDB Dataset\n",
    "dataset = load_dataset(\"imdb\")\n",
    "dataset = dataset.shuffle(seed=42)"
   ]
  },
  {
   "cell_type": "code",
   "execution_count": null,
   "metadata": {
    "id": "4-bvl2Bs2K5Q"
   },
   "outputs": [],
   "source": [
    "# Step 1: Preprocess Data for BERT\n",
    "tokenizer = BertTokenizer.from_pretrained(\"bert-base-uncased\")\n",
    "\n",
    "def preprocess_data(examples):\n",
    "    return tokenizer(examples[\"text\"], truncation=True, padding=\"max_length\", max_length=512)\n",
    "\n",
    "tokenized_dataset = dataset.map(preprocess_data, batched=True)"
   ]
  },
  {
   "cell_type": "code",
   "execution_count": null,
   "metadata": {
    "id": "ga0U1Crn2NDn"
   },
   "outputs": [],
   "source": [
    "# Step 2: Prepare Subsets for Training\n",
    "small_train_dataset = tokenized_dataset[\"train\"].select(range(2000))\n",
    "small_test_dataset = tokenized_dataset[\"test\"].select(range(1000))\n",
    "\n",
    "# Convert to PyTorch format\n",
    "small_train_dataset.set_format(type=\"torch\", columns=[\"input_ids\", \"attention_mask\", \"label\"])\n",
    "small_test_dataset.set_format(type=\"torch\", columns=[\"input_ids\", \"attention_mask\", \"label\"])"
   ]
  },
  {
   "cell_type": "code",
   "execution_count": null,
   "metadata": {
    "colab": {
     "base_uri": "https://localhost:8080/"
    },
    "id": "WyXNqoGs2Pnx",
    "outputId": "5ccf8bc2-a98b-4234-c5a2-4b31d11502a5"
   },
   "outputs": [
    {
     "name": "stderr",
     "output_type": "stream",
     "text": [
      "Some weights of BertForSequenceClassification were not initialized from the model checkpoint at bert-base-uncased and are newly initialized: ['classifier.bias', 'classifier.weight']\n",
      "You should probably TRAIN this model on a down-stream task to be able to use it for predictions and inference.\n"
     ]
    }
   ],
   "source": [
    "# Step 3: Load BERT Model\n",
    "model = BertForSequenceClassification.from_pretrained(\"bert-base-uncased\", num_labels=2)\n",
    "\n",
    "# Metric for Evaluation\n",
    "metric = evaluate.load(\"accuracy\")\n",
    "\n",
    "def compute_metrics(eval_pred):\n",
    "    logits, labels = eval_pred\n",
    "    predictions = np.argmax(logits, axis=-1)\n",
    "    return metric.compute(predictions=predictions, references=labels)"
   ]
  },
  {
   "cell_type": "markdown",
   "metadata": {
    "id": "cs-EDTfI1wqo"
   },
   "source": [
    "Experimenting with BERT Hyperparameters\n",
    "\n",
    "We will tweak critical parameters such as:\n",
    "\n",
    "* Learning Rate: Test lower and higher values (e.g., 1e-5, 3e-5).\n",
    "* Batch Size: Modify to see its impact on gradient stability.\n",
    "* Number of Epochs: Increase epochs to test long-term learning stability.\n",
    "* Optimizer: Replace the default AdamW optimizer with SGD to test its effect."
   ]
  },
  {
   "cell_type": "code",
   "execution_count": null,
   "metadata": {
    "id": "i8UWSjx21q5q",
    "outputId": "8745af97-553e-4ec2-b141-23fbb486255e"
   },
   "outputs": [
    {
     "name": "stderr",
     "output_type": "stream",
     "text": [
      "/home/steve/Desktop/Bert/bert_env/lib/python3.12/site-packages/transformers/training_args.py:1575: FutureWarning: `evaluation_strategy` is deprecated and will be removed in version 4.46 of 🤗 Transformers. Use `eval_strategy` instead\n",
      "  warnings.warn(\n"
     ]
    }
   ],
   "source": [
    "new_training_args = TrainingArguments(\n",
    "    output_dir=\"./results_upgraded\",\n",
    "    evaluation_strategy=\"steps\",\n",
    "    learning_rate=3e-5,\n",
    "    per_device_train_batch_size=18,\n",
    "    per_device_eval_batch_size=18,\n",
    "    num_train_epochs=5,\n",
    "    weight_decay=0.02,\n",
    "    logging_dir=\"./logs_upgraded\",\n",
    "    logging_steps=20,\n",
    "    save_steps=500,\n",
    "    optim=\"sgd\",\n",
    "    metric_for_best_model=\"accuracy\",\n",
    "    load_best_model_at_end=True,\n",
    "    save_total_limit=2,\n",
    ")"
   ]
  },
  {
   "cell_type": "code",
   "execution_count": null,
   "metadata": {
    "id": "0FoJYUXY2TmB"
   },
   "outputs": [],
   "source": [
    "# Step 5: Trainer Initialization\n",
    "trainer = Trainer(\n",
    "    model=model,\n",
    "    args=new_training_args,\n",
    "    train_dataset=small_train_dataset,\n",
    "    eval_dataset=small_test_dataset,\n",
    "    compute_metrics=compute_metrics,\n",
    ")"
   ]
  },
  {
   "cell_type": "code",
   "execution_count": null,
   "metadata": {
    "colab": {
     "base_uri": "https://localhost:8080/",
     "height": 603,
     "referenced_widgets": [
      "cfbb0b47dfcb4ee6b0a6cc9632a65a77",
      "f365282445294d6780bf37360d39067a",
      "f3d2c9716e7140d6ad7997728f9a0585",
      "141b81c524434cab855499335601ff50",
      "be094a9e46d44b28b2036e31648ed1e6",
      "75155911fb34412ab9646b30edc5e12a",
      "0c2f7eb4c15444c495158b3fae115d06",
      "bfd71d46b37b4e7a87489e77d891799d",
      "bbf4bfca01e74565b73aaca61a0db895",
      "b29e1f7290e84e7d9fe5421f8765e6b1",
      "08a784934ec44a8aac0dfb42de3bd169",
      "cf26c8b7b9c843beb5a4fc077b2b403d",
      "0349b215cfe04747a608fcaafe85f88c",
      "00f9ecd6794a4b268711d9e680722505",
      "d16025e1ee2e468e851d05ed02fb8d35",
      "bad5db79a32c4274b2dc93bc83cfbae1",
      "02e5d9c71960402aa74707bf5680dbeb",
      "de97505fcd254220908c6f1ddc66324e",
      "a0ad58d4ac834641ae84342e4ada7837",
      "1b9ac54d3b234a06860744c8355b3ceb",
      "ca9dd4f061214f23b8ffbc958be2af64",
      "a1ce8143d44a40ab8180e0203fbb3f2e",
      "6139ddffd9d94573a17b5f07fa766902",
      "e5ac7cbb36944e349b111b23ca3a2ecf",
      "3a7778391ee043ff90dfcf523b56abb7",
      "517d93d9700444f2a5192567f0bf3a07",
      "01bdf96c6bf2409d946e6818ea0f4657",
      "d68047eeb8704bbda95629c18d3ccbf5",
      "a8f61ec059ff460094352012020890b8",
      "d7e1d60d636d49aea4e290fd55798590"
     ]
    },
    "id": "sa5akj0E2Uvn",
    "outputId": "e3470739-866a-415b-80f9-bc19c733e52f"
   },
   "outputs": [
    {
     "data": {
      "application/vnd.jupyter.widget-view+json": {
       "model_id": "cfbb0b47dfcb4ee6b0a6cc9632a65a77",
       "version_major": 2,
       "version_minor": 0
      },
      "text/plain": [
       "  0%|          | 0/560 [00:00<?, ?it/s]"
      ]
     },
     "metadata": {},
     "output_type": "display_data"
    },
    {
     "name": "stdout",
     "output_type": "stream",
     "text": [
      "{'loss': 0.7657, 'grad_norm': 6.2180609703063965, 'learning_rate': 2.892857142857143e-05, 'epoch': 0.18}\n"
     ]
    },
    {
     "data": {
      "application/vnd.jupyter.widget-view+json": {
       "model_id": "f365282445294d6780bf37360d39067a",
       "version_major": 2,
       "version_minor": 0
      },
      "text/plain": [
       "  0%|          | 0/56 [00:00<?, ?it/s]"
      ]
     },
     "metadata": {},
     "output_type": "display_data"
    },
    {
     "name": "stdout",
     "output_type": "stream",
     "text": [
      "{'eval_loss': 0.7745718955993652, 'eval_accuracy': 0.512, 'eval_runtime': 17.3122, 'eval_samples_per_second': 57.763, 'eval_steps_per_second': 3.235, 'epoch': 0.18}\n",
      "{'loss': 0.7653, 'grad_norm': 4.987771511077881, 'learning_rate': 2.7857142857142858e-05, 'epoch': 0.36}\n"
     ]
    },
    {
     "data": {
      "application/vnd.jupyter.widget-view+json": {
       "model_id": "f3d2c9716e7140d6ad7997728f9a0585",
       "version_major": 2,
       "version_minor": 0
      },
      "text/plain": [
       "  0%|          | 0/56 [00:00<?, ?it/s]"
      ]
     },
     "metadata": {},
     "output_type": "display_data"
    },
    {
     "name": "stdout",
     "output_type": "stream",
     "text": [
      "{'eval_loss': 0.7725911736488342, 'eval_accuracy': 0.512, 'eval_runtime': 17.5673, 'eval_samples_per_second': 56.924, 'eval_steps_per_second': 3.188, 'epoch': 0.36}\n",
      "{'loss': 0.7705, 'grad_norm': 4.60882568359375, 'learning_rate': 2.6785714285714288e-05, 'epoch': 0.54}\n"
     ]
    },
    {
     "data": {
      "application/vnd.jupyter.widget-view+json": {
       "model_id": "141b81c524434cab855499335601ff50",
       "version_major": 2,
       "version_minor": 0
      },
      "text/plain": [
       "  0%|          | 0/56 [00:00<?, ?it/s]"
      ]
     },
     "metadata": {},
     "output_type": "display_data"
    },
    {
     "name": "stdout",
     "output_type": "stream",
     "text": [
      "{'eval_loss': 0.7705496549606323, 'eval_accuracy': 0.512, 'eval_runtime': 17.7447, 'eval_samples_per_second': 56.355, 'eval_steps_per_second': 3.156, 'epoch': 0.54}\n",
      "{'loss': 0.782, 'grad_norm': 2.6608150005340576, 'learning_rate': 2.5714285714285714e-05, 'epoch': 0.71}\n"
     ]
    },
    {
     "data": {
      "application/vnd.jupyter.widget-view+json": {
       "model_id": "be094a9e46d44b28b2036e31648ed1e6",
       "version_major": 2,
       "version_minor": 0
      },
      "text/plain": [
       "  0%|          | 0/56 [00:00<?, ?it/s]"
      ]
     },
     "metadata": {},
     "output_type": "display_data"
    },
    {
     "name": "stdout",
     "output_type": "stream",
     "text": [
      "{'eval_loss': 0.7685990929603577, 'eval_accuracy': 0.512, 'eval_runtime': 17.804, 'eval_samples_per_second': 56.167, 'eval_steps_per_second': 3.145, 'epoch': 0.71}\n",
      "{'loss': 0.7984, 'grad_norm': 2.5621371269226074, 'learning_rate': 2.464285714285714e-05, 'epoch': 0.89}\n"
     ]
    },
    {
     "data": {
      "application/vnd.jupyter.widget-view+json": {
       "model_id": "75155911fb34412ab9646b30edc5e12a",
       "version_major": 2,
       "version_minor": 0
      },
      "text/plain": [
       "  0%|          | 0/56 [00:00<?, ?it/s]"
      ]
     },
     "metadata": {},
     "output_type": "display_data"
    },
    {
     "name": "stdout",
     "output_type": "stream",
     "text": [
      "{'eval_loss': 0.7667784094810486, 'eval_accuracy': 0.512, 'eval_runtime': 17.8354, 'eval_samples_per_second': 56.068, 'eval_steps_per_second': 3.14, 'epoch': 0.89}\n",
      "{'loss': 0.7611, 'grad_norm': 11.373584747314453, 'learning_rate': 2.357142857142857e-05, 'epoch': 1.07}\n"
     ]
    },
    {
     "data": {
      "application/vnd.jupyter.widget-view+json": {
       "model_id": "0c2f7eb4c15444c495158b3fae115d06",
       "version_major": 2,
       "version_minor": 0
      },
      "text/plain": [
       "  0%|          | 0/56 [00:00<?, ?it/s]"
      ]
     },
     "metadata": {},
     "output_type": "display_data"
    },
    {
     "name": "stdout",
     "output_type": "stream",
     "text": [
      "{'eval_loss': 0.7651101350784302, 'eval_accuracy': 0.512, 'eval_runtime': 17.8631, 'eval_samples_per_second': 55.981, 'eval_steps_per_second': 3.135, 'epoch': 1.07}\n",
      "{'loss': 0.7624, 'grad_norm': 1.9893685579299927, 'learning_rate': 2.25e-05, 'epoch': 1.25}\n"
     ]
    },
    {
     "data": {
      "application/vnd.jupyter.widget-view+json": {
       "model_id": "bfd71d46b37b4e7a87489e77d891799d",
       "version_major": 2,
       "version_minor": 0
      },
      "text/plain": [
       "  0%|          | 0/56 [00:00<?, ?it/s]"
      ]
     },
     "metadata": {},
     "output_type": "display_data"
    },
    {
     "name": "stdout",
     "output_type": "stream",
     "text": [
      "{'eval_loss': 0.763458251953125, 'eval_accuracy': 0.512, 'eval_runtime': 17.855, 'eval_samples_per_second': 56.007, 'eval_steps_per_second': 3.136, 'epoch': 1.25}\n",
      "{'loss': 0.7911, 'grad_norm': 4.919793605804443, 'learning_rate': 2.1428571428571428e-05, 'epoch': 1.43}\n"
     ]
    },
    {
     "data": {
      "application/vnd.jupyter.widget-view+json": {
       "model_id": "bbf4bfca01e74565b73aaca61a0db895",
       "version_major": 2,
       "version_minor": 0
      },
      "text/plain": [
       "  0%|          | 0/56 [00:00<?, ?it/s]"
      ]
     },
     "metadata": {},
     "output_type": "display_data"
    },
    {
     "name": "stdout",
     "output_type": "stream",
     "text": [
      "{'eval_loss': 0.7617422938346863, 'eval_accuracy': 0.512, 'eval_runtime': 17.8723, 'eval_samples_per_second': 55.953, 'eval_steps_per_second': 3.133, 'epoch': 1.43}\n",
      "{'loss': 0.7475, 'grad_norm': 1.7797565460205078, 'learning_rate': 2.0357142857142858e-05, 'epoch': 1.61}\n"
     ]
    },
    {
     "data": {
      "application/vnd.jupyter.widget-view+json": {
       "model_id": "b29e1f7290e84e7d9fe5421f8765e6b1",
       "version_major": 2,
       "version_minor": 0
      },
      "text/plain": [
       "  0%|          | 0/56 [00:00<?, ?it/s]"
      ]
     },
     "metadata": {},
     "output_type": "display_data"
    },
    {
     "name": "stdout",
     "output_type": "stream",
     "text": [
      "{'eval_loss': 0.760529100894928, 'eval_accuracy': 0.512, 'eval_runtime': 17.8736, 'eval_samples_per_second': 55.948, 'eval_steps_per_second': 3.133, 'epoch': 1.61}\n",
      "{'loss': 0.7654, 'grad_norm': 5.892553329467773, 'learning_rate': 1.928571428571429e-05, 'epoch': 1.79}\n"
     ]
    },
    {
     "data": {
      "application/vnd.jupyter.widget-view+json": {
       "model_id": "08a784934ec44a8aac0dfb42de3bd169",
       "version_major": 2,
       "version_minor": 0
      },
      "text/plain": [
       "  0%|          | 0/56 [00:00<?, ?it/s]"
      ]
     },
     "metadata": {},
     "output_type": "display_data"
    },
    {
     "name": "stdout",
     "output_type": "stream",
     "text": [
      "{'eval_loss': 0.759317934513092, 'eval_accuracy': 0.512, 'eval_runtime': 17.8766, 'eval_samples_per_second': 55.939, 'eval_steps_per_second': 3.133, 'epoch': 1.79}\n",
      "{'loss': 0.7575, 'grad_norm': 2.1814255714416504, 'learning_rate': 1.8214285714285712e-05, 'epoch': 1.96}\n"
     ]
    },
    {
     "data": {
      "application/vnd.jupyter.widget-view+json": {
       "model_id": "cf26c8b7b9c843beb5a4fc077b2b403d",
       "version_major": 2,
       "version_minor": 0
      },
      "text/plain": [
       "  0%|          | 0/56 [00:00<?, ?it/s]"
      ]
     },
     "metadata": {},
     "output_type": "display_data"
    },
    {
     "name": "stdout",
     "output_type": "stream",
     "text": [
      "{'eval_loss': 0.7582717537879944, 'eval_accuracy': 0.512, 'eval_runtime': 17.8844, 'eval_samples_per_second': 55.915, 'eval_steps_per_second': 3.131, 'epoch': 1.96}\n",
      "{'loss': 0.7848, 'grad_norm': 10.161514282226562, 'learning_rate': 1.7142857142857142e-05, 'epoch': 2.14}\n"
     ]
    },
    {
     "data": {
      "application/vnd.jupyter.widget-view+json": {
       "model_id": "0349b215cfe04747a608fcaafe85f88c",
       "version_major": 2,
       "version_minor": 0
      },
      "text/plain": [
       "  0%|          | 0/56 [00:00<?, ?it/s]"
      ]
     },
     "metadata": {},
     "output_type": "display_data"
    },
    {
     "name": "stdout",
     "output_type": "stream",
     "text": [
      "{'eval_loss': 0.7571211457252502, 'eval_accuracy': 0.512, 'eval_runtime': 17.9007, 'eval_samples_per_second': 55.864, 'eval_steps_per_second': 3.128, 'epoch': 2.14}\n",
      "{'loss': 0.7507, 'grad_norm': 2.364349603652954, 'learning_rate': 1.6071428571428572e-05, 'epoch': 2.32}\n"
     ]
    },
    {
     "data": {
      "application/vnd.jupyter.widget-view+json": {
       "model_id": "00f9ecd6794a4b268711d9e680722505",
       "version_major": 2,
       "version_minor": 0
      },
      "text/plain": [
       "  0%|          | 0/56 [00:00<?, ?it/s]"
      ]
     },
     "metadata": {},
     "output_type": "display_data"
    },
    {
     "name": "stdout",
     "output_type": "stream",
     "text": [
      "{'eval_loss': 0.7562240958213806, 'eval_accuracy': 0.512, 'eval_runtime': 17.8864, 'eval_samples_per_second': 55.908, 'eval_steps_per_second': 3.131, 'epoch': 2.32}\n",
      "{'loss': 0.7376, 'grad_norm': 1.7708302736282349, 'learning_rate': 1.5e-05, 'epoch': 2.5}\n"
     ]
    },
    {
     "data": {
      "application/vnd.jupyter.widget-view+json": {
       "model_id": "d16025e1ee2e468e851d05ed02fb8d35",
       "version_major": 2,
       "version_minor": 0
      },
      "text/plain": [
       "  0%|          | 0/56 [00:00<?, ?it/s]"
      ]
     },
     "metadata": {},
     "output_type": "display_data"
    },
    {
     "name": "stdout",
     "output_type": "stream",
     "text": [
      "{'eval_loss': 0.7554880380630493, 'eval_accuracy': 0.512, 'eval_runtime': 17.8757, 'eval_samples_per_second': 55.942, 'eval_steps_per_second': 3.133, 'epoch': 2.5}\n",
      "{'loss': 0.7597, 'grad_norm': 5.085794448852539, 'learning_rate': 1.3928571428571429e-05, 'epoch': 2.68}\n"
     ]
    },
    {
     "data": {
      "application/vnd.jupyter.widget-view+json": {
       "model_id": "bad5db79a32c4274b2dc93bc83cfbae1",
       "version_major": 2,
       "version_minor": 0
      },
      "text/plain": [
       "  0%|          | 0/56 [00:00<?, ?it/s]"
      ]
     },
     "metadata": {},
     "output_type": "display_data"
    },
    {
     "name": "stdout",
     "output_type": "stream",
     "text": [
      "{'eval_loss': 0.7546120882034302, 'eval_accuracy': 0.512, 'eval_runtime': 17.841, 'eval_samples_per_second': 56.051, 'eval_steps_per_second': 3.139, 'epoch': 2.68}\n",
      "{'loss': 0.773, 'grad_norm': 5.955866813659668, 'learning_rate': 1.2857142857142857e-05, 'epoch': 2.86}\n"
     ]
    },
    {
     "data": {
      "application/vnd.jupyter.widget-view+json": {
       "model_id": "02e5d9c71960402aa74707bf5680dbeb",
       "version_major": 2,
       "version_minor": 0
      },
      "text/plain": [
       "  0%|          | 0/56 [00:00<?, ?it/s]"
      ]
     },
     "metadata": {},
     "output_type": "display_data"
    },
    {
     "name": "stdout",
     "output_type": "stream",
     "text": [
      "{'eval_loss': 0.7537558674812317, 'eval_accuracy': 0.512, 'eval_runtime': 17.8468, 'eval_samples_per_second': 56.033, 'eval_steps_per_second': 3.138, 'epoch': 2.86}\n",
      "{'loss': 0.752, 'grad_norm': 2.0946457386016846, 'learning_rate': 1.1785714285714286e-05, 'epoch': 3.04}\n"
     ]
    },
    {
     "data": {
      "application/vnd.jupyter.widget-view+json": {
       "model_id": "de97505fcd254220908c6f1ddc66324e",
       "version_major": 2,
       "version_minor": 0
      },
      "text/plain": [
       "  0%|          | 0/56 [00:00<?, ?it/s]"
      ]
     },
     "metadata": {},
     "output_type": "display_data"
    },
    {
     "name": "stdout",
     "output_type": "stream",
     "text": [
      "{'eval_loss': 0.7530370950698853, 'eval_accuracy': 0.512, 'eval_runtime': 17.8463, 'eval_samples_per_second': 56.034, 'eval_steps_per_second': 3.138, 'epoch': 3.04}\n",
      "{'loss': 0.7706, 'grad_norm': 5.92828369140625, 'learning_rate': 1.0714285714285714e-05, 'epoch': 3.21}\n"
     ]
    },
    {
     "data": {
      "application/vnd.jupyter.widget-view+json": {
       "model_id": "a0ad58d4ac834641ae84342e4ada7837",
       "version_major": 2,
       "version_minor": 0
      },
      "text/plain": [
       "  0%|          | 0/56 [00:00<?, ?it/s]"
      ]
     },
     "metadata": {},
     "output_type": "display_data"
    },
    {
     "name": "stdout",
     "output_type": "stream",
     "text": [
      "{'eval_loss': 0.7522532939910889, 'eval_accuracy': 0.512, 'eval_runtime': 17.8235, 'eval_samples_per_second': 56.106, 'eval_steps_per_second': 3.142, 'epoch': 3.21}\n",
      "{'loss': 0.7603, 'grad_norm': 5.753920555114746, 'learning_rate': 9.642857142857144e-06, 'epoch': 3.39}\n"
     ]
    },
    {
     "data": {
      "application/vnd.jupyter.widget-view+json": {
       "model_id": "1b9ac54d3b234a06860744c8355b3ceb",
       "version_major": 2,
       "version_minor": 0
      },
      "text/plain": [
       "  0%|          | 0/56 [00:00<?, ?it/s]"
      ]
     },
     "metadata": {},
     "output_type": "display_data"
    },
    {
     "name": "stdout",
     "output_type": "stream",
     "text": [
      "{'eval_loss': 0.7516302466392517, 'eval_accuracy': 0.512, 'eval_runtime': 17.8264, 'eval_samples_per_second': 56.097, 'eval_steps_per_second': 3.141, 'epoch': 3.39}\n",
      "{'loss': 0.7811, 'grad_norm': 11.439322471618652, 'learning_rate': 8.571428571428571e-06, 'epoch': 3.57}\n"
     ]
    },
    {
     "data": {
      "application/vnd.jupyter.widget-view+json": {
       "model_id": "ca9dd4f061214f23b8ffbc958be2af64",
       "version_major": 2,
       "version_minor": 0
      },
      "text/plain": [
       "  0%|          | 0/56 [00:00<?, ?it/s]"
      ]
     },
     "metadata": {},
     "output_type": "display_data"
    },
    {
     "name": "stdout",
     "output_type": "stream",
     "text": [
      "{'eval_loss': 0.7510406970977783, 'eval_accuracy': 0.512, 'eval_runtime': 17.8696, 'eval_samples_per_second': 55.961, 'eval_steps_per_second': 3.134, 'epoch': 3.57}\n",
      "{'loss': 0.7597, 'grad_norm': 7.442277908325195, 'learning_rate': 7.5e-06, 'epoch': 3.75}\n"
     ]
    },
    {
     "data": {
      "application/vnd.jupyter.widget-view+json": {
       "model_id": "a1ce8143d44a40ab8180e0203fbb3f2e",
       "version_major": 2,
       "version_minor": 0
      },
      "text/plain": [
       "  0%|          | 0/56 [00:00<?, ?it/s]"
      ]
     },
     "metadata": {},
     "output_type": "display_data"
    },
    {
     "name": "stdout",
     "output_type": "stream",
     "text": [
      "{'eval_loss': 0.7504723072052002, 'eval_accuracy': 0.512, 'eval_runtime': 17.8857, 'eval_samples_per_second': 55.91, 'eval_steps_per_second': 3.131, 'epoch': 3.75}\n",
      "{'loss': 0.7414, 'grad_norm': 6.230880260467529, 'learning_rate': 6.428571428571429e-06, 'epoch': 3.93}\n"
     ]
    },
    {
     "data": {
      "application/vnd.jupyter.widget-view+json": {
       "model_id": "6139ddffd9d94573a17b5f07fa766902",
       "version_major": 2,
       "version_minor": 0
      },
      "text/plain": [
       "  0%|          | 0/56 [00:00<?, ?it/s]"
      ]
     },
     "metadata": {},
     "output_type": "display_data"
    },
    {
     "name": "stdout",
     "output_type": "stream",
     "text": [
      "{'eval_loss': 0.7501082420349121, 'eval_accuracy': 0.512, 'eval_runtime': 17.8435, 'eval_samples_per_second': 56.043, 'eval_steps_per_second': 3.138, 'epoch': 3.93}\n",
      "{'loss': 0.7705, 'grad_norm': 2.0786170959472656, 'learning_rate': 5.357142857142857e-06, 'epoch': 4.11}\n"
     ]
    },
    {
     "data": {
      "application/vnd.jupyter.widget-view+json": {
       "model_id": "e5ac7cbb36944e349b111b23ca3a2ecf",
       "version_major": 2,
       "version_minor": 0
      },
      "text/plain": [
       "  0%|          | 0/56 [00:00<?, ?it/s]"
      ]
     },
     "metadata": {},
     "output_type": "display_data"
    },
    {
     "name": "stdout",
     "output_type": "stream",
     "text": [
      "{'eval_loss': 0.7497491240501404, 'eval_accuracy': 0.512, 'eval_runtime': 17.8613, 'eval_samples_per_second': 55.987, 'eval_steps_per_second': 3.135, 'epoch': 4.11}\n",
      "{'loss': 0.7532, 'grad_norm': 2.8637211322784424, 'learning_rate': 4.2857142857142855e-06, 'epoch': 4.29}\n"
     ]
    },
    {
     "data": {
      "application/vnd.jupyter.widget-view+json": {
       "model_id": "3a7778391ee043ff90dfcf523b56abb7",
       "version_major": 2,
       "version_minor": 0
      },
      "text/plain": [
       "  0%|          | 0/56 [00:00<?, ?it/s]"
      ]
     },
     "metadata": {},
     "output_type": "display_data"
    },
    {
     "name": "stdout",
     "output_type": "stream",
     "text": [
      "{'eval_loss': 0.7494498491287231, 'eval_accuracy': 0.512, 'eval_runtime': 17.8796, 'eval_samples_per_second': 55.93, 'eval_steps_per_second': 3.132, 'epoch': 4.29}\n",
      "{'loss': 0.7576, 'grad_norm': 9.788105010986328, 'learning_rate': 3.2142857142857143e-06, 'epoch': 4.46}\n"
     ]
    },
    {
     "data": {
      "application/vnd.jupyter.widget-view+json": {
       "model_id": "517d93d9700444f2a5192567f0bf3a07",
       "version_major": 2,
       "version_minor": 0
      },
      "text/plain": [
       "  0%|          | 0/56 [00:00<?, ?it/s]"
      ]
     },
     "metadata": {},
     "output_type": "display_data"
    },
    {
     "name": "stdout",
     "output_type": "stream",
     "text": [
      "{'eval_loss': 0.7492310404777527, 'eval_accuracy': 0.512, 'eval_runtime': 17.8618, 'eval_samples_per_second': 55.986, 'eval_steps_per_second': 3.135, 'epoch': 4.46}\n",
      "{'loss': 0.7523, 'grad_norm': 3.472139358520508, 'learning_rate': 2.1428571428571427e-06, 'epoch': 4.64}\n"
     ]
    },
    {
     "data": {
      "application/vnd.jupyter.widget-view+json": {
       "model_id": "01bdf96c6bf2409d946e6818ea0f4657",
       "version_major": 2,
       "version_minor": 0
      },
      "text/plain": [
       "  0%|          | 0/56 [00:00<?, ?it/s]"
      ]
     },
     "metadata": {},
     "output_type": "display_data"
    },
    {
     "name": "stdout",
     "output_type": "stream",
     "text": [
      "{'eval_loss': 0.7490638494491577, 'eval_accuracy': 0.512, 'eval_runtime': 17.869, 'eval_samples_per_second': 55.963, 'eval_steps_per_second': 3.134, 'epoch': 4.64}\n",
      "{'loss': 0.7586, 'grad_norm': 3.055372953414917, 'learning_rate': 1.0714285714285714e-06, 'epoch': 4.82}\n"
     ]
    },
    {
     "data": {
      "application/vnd.jupyter.widget-view+json": {
       "model_id": "d68047eeb8704bbda95629c18d3ccbf5",
       "version_major": 2,
       "version_minor": 0
      },
      "text/plain": [
       "  0%|          | 0/56 [00:00<?, ?it/s]"
      ]
     },
     "metadata": {},
     "output_type": "display_data"
    },
    {
     "name": "stdout",
     "output_type": "stream",
     "text": [
      "{'eval_loss': 0.7489596605300903, 'eval_accuracy': 0.512, 'eval_runtime': 17.857, 'eval_samples_per_second': 56.0, 'eval_steps_per_second': 3.136, 'epoch': 4.82}\n",
      "{'loss': 0.7441, 'grad_norm': 7.2010321617126465, 'learning_rate': 0.0, 'epoch': 5.0}\n"
     ]
    },
    {
     "data": {
      "application/vnd.jupyter.widget-view+json": {
       "model_id": "a8f61ec059ff460094352012020890b8",
       "version_major": 2,
       "version_minor": 0
      },
      "text/plain": [
       "  0%|          | 0/56 [00:00<?, ?it/s]"
      ]
     },
     "metadata": {},
     "output_type": "display_data"
    },
    {
     "name": "stdout",
     "output_type": "stream",
     "text": [
      "{'eval_loss': 0.7489376068115234, 'eval_accuracy': 0.512, 'eval_runtime': 17.8333, 'eval_samples_per_second': 56.075, 'eval_steps_per_second': 3.14, 'epoch': 5.0}\n"
     ]
    },
    {
     "name": "stderr",
     "output_type": "stream",
     "text": [
      "Could not locate the best model at ./results_upgraded/checkpoint-20/pytorch_model.bin, if you are running a distributed training on multiple nodes, you should activate `--save_on_each_node`.\n"
     ]
    },
    {
     "name": "stdout",
     "output_type": "stream",
     "text": [
      "{'train_runtime': 1092.9924, 'train_samples_per_second': 9.149, 'train_steps_per_second': 0.512, 'train_loss': 0.763364885534559, 'epoch': 5.0}\n"
     ]
    },
    {
     "data": {
      "application/vnd.jupyter.widget-view+json": {
       "model_id": "d7e1d60d636d49aea4e290fd55798590",
       "version_major": 2,
       "version_minor": 0
      },
      "text/plain": [
       "  0%|          | 0/56 [00:00<?, ?it/s]"
      ]
     },
     "metadata": {},
     "output_type": "display_data"
    },
    {
     "name": "stdout",
     "output_type": "stream",
     "text": [
      "BERT Evaluation Results: {'eval_loss': 0.7489376068115234, 'eval_accuracy': 0.512, 'eval_runtime': 17.8457, 'eval_samples_per_second': 56.036, 'eval_steps_per_second': 3.138, 'epoch': 5.0}\n"
     ]
    }
   ],
   "source": [
    "# Step 6: Train and Evaluate BERT\n",
    "trainer.train()\n",
    "bert_eval = trainer.evaluate()\n",
    "print(f\"BERT Evaluation Results: {bert_eval}\")\n"
   ]
  },
  {
   "cell_type": "code",
   "execution_count": null,
   "metadata": {
    "colab": {
     "base_uri": "https://localhost:8080/"
    },
    "id": "neCPku7l2Wpf",
    "outputId": "eb5e518a-cb78-4fc5-b828-2e9205adad07"
   },
   "outputs": [
    {
     "name": "stdout",
     "output_type": "stream",
     "text": [
      "BERT Predicted Sentiment: Negative\n"
     ]
    }
   ],
   "source": [
    "# Step 7: Test Inference with BERT\n",
    "test_sentence = \"The movie was bad, won't be watching it again!\"\n",
    "inputs = tokenizer(test_sentence, return_tensors=\"pt\", truncation=True, padding=\"max_length\", max_length=512)\n",
    "\n",
    "# Move inputs to the same device as the model\n",
    "device = torch.device(\"cuda:0\" if torch.cuda.is_available() else \"cpu\") # Get the device\n",
    "inputs = {k: v.to(device) for k, v in inputs.items()}  # Move inputs to device\n",
    "\n",
    "outputs = model(**inputs)\n",
    "predicted_class = torch.argmax(outputs.logits).item()\n",
    "print(f\"BERT Predicted Sentiment: {'Positive' if predicted_class == 1 else 'Negative'}\")"
   ]
  },
  {
   "cell_type": "markdown",
   "metadata": {
    "id": "mx9ZmE824jYP"
   },
   "source": [
    "**Introducing an MLP Model**\n",
    "\n",
    "\n",
    "To compare BERT with a simpler architecture, We implemented a Multiple Linear Perceptron (MLP). This will process the same dataset but will use precomputed embeddings from a lightweight pre-trained model (e.g., GloVe).\n",
    "\n",
    "Steps:\n",
    "Extract Pre-Trained GloVe Embeddings: Use GloVe embeddings to represent text.\n",
    "\n",
    "Define the MLP Architecture: A feedforward neural network with two hidden layers and ReLU activation.\n",
    "\n"
   ]
  },
  {
   "cell_type": "code",
   "execution_count": null,
   "metadata": {
    "colab": {
     "base_uri": "https://localhost:8080/"
    },
    "id": "42u7OcN98mDy",
    "outputId": "9c4e4530-4844-4b8d-d212-f8ae5f845700"
   },
   "outputs": [
    {
     "name": "stdout",
     "output_type": "stream",
     "text": [
      "--2024-12-07 23:13:37--  http://nlp.stanford.edu/data/glove.6B.zip\n",
      "Resolving nlp.stanford.edu (nlp.stanford.edu)... 171.64.67.140\n",
      "Connecting to nlp.stanford.edu (nlp.stanford.edu)|171.64.67.140|:80... connected.\n",
      "HTTP request sent, awaiting response... 302 Found\n",
      "Location: https://nlp.stanford.edu/data/glove.6B.zip [following]\n",
      "--2024-12-07 23:13:37--  https://nlp.stanford.edu/data/glove.6B.zip\n",
      "Connecting to nlp.stanford.edu (nlp.stanford.edu)|171.64.67.140|:443... connected.\n",
      "HTTP request sent, awaiting response... 301 Moved Permanently\n",
      "Location: https://downloads.cs.stanford.edu/nlp/data/glove.6B.zip [following]\n",
      "--2024-12-07 23:13:37--  https://downloads.cs.stanford.edu/nlp/data/glove.6B.zip\n",
      "Resolving downloads.cs.stanford.edu (downloads.cs.stanford.edu)... 171.64.64.22\n",
      "Connecting to downloads.cs.stanford.edu (downloads.cs.stanford.edu)|171.64.64.22|:443... connected.\n",
      "HTTP request sent, awaiting response... 200 OK\n",
      "Length: 862182613 (822M) [application/zip]\n",
      "Saving to: ‘glove.6B.zip’\n",
      "\n",
      "glove.6B.zip        100%[===================>] 822.24M  2.41MB/s    in 4m 37s  \n",
      "\n",
      "2024-12-07 23:18:14 (2.97 MB/s) - ‘glove.6B.zip’ saved [862182613/862182613]\n",
      "\n",
      "Archive:  glove.6B.zip\n",
      "  inflating: glove.6B.50d.txt        \n",
      "  inflating: glove.6B.100d.txt       \n",
      "  inflating: glove.6B.200d.txt       \n",
      "  inflating: glove.6B.300d.txt       \n"
     ]
    }
   ],
   "source": [
    "!wget http://nlp.stanford.edu/data/glove.6B.zip # Downloads the GloVe embeddings\n",
    "!unzip glove.6B.zip # Unzips the downloaded file"
   ]
  },
  {
   "cell_type": "code",
   "execution_count": null,
   "metadata": {
    "id": "7FiBupLE2Ycv"
   },
   "outputs": [],
   "source": [
    "# Step 8: Load GloVe Embeddings for MLP\n",
    "def load_glove_embeddings(embedding_dim=50):\n",
    "    embeddings_index = {}\n",
    "    # Updated path to the GloVe file\n",
    "    glove_file_path = f\"glove.6B.{embedding_dim}d.txt\"\n",
    "    with open(glove_file_path, encoding=\"utf8\") as f:\n",
    "        for line in f:\n",
    "            values = line.split()\n",
    "            word = values[0]\n",
    "            coefficients = np.asarray(values[1:], dtype='float32')\n",
    "            embeddings_index[word] = coefficients\n",
    "    return embeddings_index\n",
    "\n",
    "# Precompute embeddings\n",
    "def embed_text(text, embeddings_index, embedding_dim=50):\n",
    "    tokens = text.split()\n",
    "    vecs = [embeddings_index.get(token, np.zeros(embedding_dim)) for token in tokens]\n",
    "    return np.mean(vecs, axis=0)\n",
    "\n",
    "# Custom Dataset for MLP\n",
    "class CustomDataset(Dataset):\n",
    "    def __init__(self, texts, labels, embeddings_index, embedding_dim=50):\n",
    "        self.embeddings = [embed_text(text, embeddings_index, embedding_dim) for text in texts]\n",
    "        self.labels = labels\n",
    "\n",
    "    def __len__(self):\n",
    "        return len(self.labels)\n",
    "\n",
    "    def __getitem__(self, idx):\n",
    "        return torch.tensor(self.embeddings[idx]), torch.tensor(self.labels[idx])"
   ]
  },
  {
   "cell_type": "code",
   "execution_count": null,
   "metadata": {
    "id": "Gtd8DUMF2Z-G"
   },
   "outputs": [],
   "source": [
    "# Step 9: Prepare MLP Dataset\n",
    "train_texts = [example[\"text\"] for example in dataset[\"train\"].select(range(2000))]\n",
    "train_labels = [example[\"label\"] for example in dataset[\"train\"].select(range(2000))]\n",
    "test_texts = [example[\"text\"] for example in dataset[\"test\"].select(range(1000))]\n",
    "test_labels = [example[\"label\"] for example in dataset[\"test\"].select(range(1000))]\n",
    "\n",
    "embedding_dim = 50\n",
    "embeddings_index = load_glove_embeddings(embedding_dim)\n",
    "\n",
    "train_dataset = CustomDataset(train_texts, train_labels, embeddings_index, embedding_dim)\n",
    "test_dataset = CustomDataset(test_texts, test_labels, embeddings_index, embedding_dim)\n",
    "\n",
    "train_loader = DataLoader(train_dataset, batch_size=16, shuffle=True)\n",
    "test_loader = DataLoader(test_dataset, batch_size=16, shuffle=False)"
   ]
  },
  {
   "cell_type": "code",
   "execution_count": null,
   "metadata": {
    "id": "hVkEH35i2bv_"
   },
   "outputs": [],
   "source": [
    "# Step 10: Define MLP Model\n",
    "class MLP(nn.Module):\n",
    "    def __init__(self, input_size, hidden_size, num_classes):\n",
    "        super(MLP, self).__init__()\n",
    "        self.fc1 = nn.Linear(input_size, hidden_size)\n",
    "        self.relu = nn.ReLU()\n",
    "        self.fc2 = nn.Linear(hidden_size, hidden_size // 2)\n",
    "        self.relu2 = nn.ReLU()\n",
    "        self.fc3 = nn.Linear(hidden_size // 2, num_classes)\n",
    "        self.softmax = nn.Softmax(dim=1)\n",
    "\n",
    "    def forward(self, x):\n",
    "        x = self.fc1(x)\n",
    "        x = self.relu(x)\n",
    "        x = self.fc2(x)\n",
    "        x = self.relu2(x)\n",
    "        x = self.fc3(x)\n",
    "        return self.softmax(x)\n"
   ]
  },
  {
   "cell_type": "markdown",
   "metadata": {
    "id": "OG-iKLs19w_T"
   },
   "source": [
    "Train the MLP\n",
    "\n",
    "Prepare data loaders for the MLP and train it."
   ]
  },
  {
   "cell_type": "code",
   "execution_count": null,
   "metadata": {
    "colab": {
     "base_uri": "https://localhost:8080/"
    },
    "id": "iotqYsMF2dKn",
    "outputId": "b608eacf-458b-4f0a-c28b-cca246be62dc"
   },
   "outputs": [
    {
     "name": "stdout",
     "output_type": "stream",
     "text": [
      "Epoch 1, Loss: 0.6706182360649109\n",
      "Epoch 2, Loss: 0.5264852643013\n",
      "Epoch 3, Loss: 0.5450877547264099\n",
      "Epoch 4, Loss: 0.6610502004623413\n",
      "Epoch 5, Loss: 0.48019441962242126\n",
      "Epoch 6, Loss: 0.5466063022613525\n",
      "Epoch 7, Loss: 0.4752536416053772\n",
      "Epoch 8, Loss: 0.6189316511154175\n",
      "Epoch 9, Loss: 0.672892153263092\n",
      "Epoch 10, Loss: 0.4976840913295746\n"
     ]
    }
   ],
   "source": [
    "# Step 11: Train MLP\n",
    "input_size = embedding_dim\n",
    "hidden_size = 128\n",
    "num_classes = 2\n",
    "mlp_model = MLP(input_size, hidden_size, num_classes)\n",
    "\n",
    "criterion = nn.CrossEntropyLoss()\n",
    "optimizer = optim.Adam(mlp_model.parameters(), lr=0.001)\n",
    "\n",
    "for epoch in range(10):\n",
    "    mlp_model.train()\n",
    "    for inputs, labels in train_loader:\n",
    "        optimizer.zero_grad()\n",
    "        outputs = mlp_model(inputs.float())\n",
    "        loss = criterion(outputs, labels)\n",
    "        loss.backward()\n",
    "        optimizer.step()\n",
    "    print(f\"Epoch {epoch+1}, Loss: {loss.item()}\")"
   ]
  },
  {
   "cell_type": "markdown",
   "metadata": {
    "id": "EU71CzCZ99vk"
   },
   "source": [
    "Evaluate and Compare\n",
    "\n",
    "Compare BERT and MLP in terms of:\n",
    "\n",
    "Accuracy: Evaluate using the same metric.\n",
    "Performance Efficiency: Compare training time and resource usage.\n",
    "Qualitative Differences: Analyze prediction quality for sample inputs."
   ]
  },
  {
   "cell_type": "code",
   "execution_count": null,
   "metadata": {
    "colab": {
     "base_uri": "https://localhost:8080/"
    },
    "id": "euJuWmhy2eWY",
    "outputId": "ed3faa1b-d7db-474c-9cf1-a18a22caca79"
   },
   "outputs": [
    {
     "name": "stdout",
     "output_type": "stream",
     "text": [
      "MLP Test Accuracy: 0.728\n"
     ]
    }
   ],
   "source": [
    "# Step 12: Evaluate MLP\n",
    "mlp_model.eval()\n",
    "correct = 0\n",
    "total = 0\n",
    "with torch.no_grad():\n",
    "    for inputs, labels in test_loader:\n",
    "        outputs = mlp_model(inputs.float())\n",
    "        _, predicted = torch.max(outputs, 1)\n",
    "        total += labels.size(0)\n",
    "        correct += (predicted == labels).sum().item()\n",
    "\n",
    "mlp_accuracy = correct / total\n",
    "print(f\"MLP Test Accuracy: {mlp_accuracy}\")"
   ]
  },
  {
   "cell_type": "markdown",
   "metadata": {
    "id": "-YdFCgWoh-j3"
   },
   "source": [
    "### Results :\n",
    "*******************************************************************************************************************************\n",
    "\n",
    "\n",
    "#### Observations :\n",
    "*******************************************************************************************************************************\n",
    "(1) BERT achieved a high level of accuracy when fine-tuned for sentiment analysis on the IMDB dataset. This shows the significance of bidirectional contextual understanding of BERT model.\n",
    "\n",
    "(2) In our model, we tweaked a few model parameters such as 'Learning Rate', 'Batch Size', 'Number of Epochs', and 'Optimizer' to evaluate how our model changes. The results indicate that the performance of the model decreased.\n",
    "\n",
    "(3) MLP model, while simpler (accuracy = 70%), could not match BERT's performance (accuracy = 91.2%) on text interpretation. Further, it had a longer training time compared to BERT.\n",
    "\n",
    "\n"
   ]
  },
  {
   "cell_type": "markdown",
   "metadata": {
    "id": "s3JVj9dKh-j3"
   },
   "source": [
    "### Conclusion and Future Direction :\n",
    "*******************************************************************************************************************************\n",
    "#### Learnings :\n",
    "\n",
    "BERT required significant computational resources during pretraining but was relatively fast during fine-tuning. On the other hand, MLP provided a resource-friendly alternative, which is suitable for systems with limited computational power.\n",
    "*******************************************************************************************************************************\n",
    "#### Results Discussion :\n",
    "(1) Experiments with hyperparameters demonstrated the sensitivity of model performance to batch size and learning rate adjustments.\n",
    "\n",
    "(2) The pre-trained BERT model outperformed MLP on text classification tasks, highlighting its robustness.\n",
    "\n",
    "\n",
    "*******************************************************************************************************************************\n",
    "#### Limitations :\n",
    "\n",
    "(1) Deploying BERT on resource-constrained environments can be challenging due to its size and computational overhead.\n",
    "\n",
    "(2) BERT operated as a 'black box', meaning that it is hard for us humans to interpret the decisions made by BERT models. This lack of transparency can be a concern for those applications that require explanation, for industries such as healthcare (Gaur et al., 2021).\n",
    "\n",
    "*******************************************************************************************************************************\n",
    "#### Future Extension :\n",
    "\n",
    "(1) Comparing BERT with newer transformer models such as DeBERTa to evaluate advances in bidirectional text modeling.\n",
    "\n",
    "(2) To make BERT more effecient, other steps such as quantization or pruning can be performed.\n",
    "\n",
    "(3) For specialized tasks, the different domain-specific BERT models can be experimented."
   ]
  },
  {
   "cell_type": "markdown",
   "metadata": {
    "id": "ATXtFdtBh-j4"
   },
   "source": [
    "# References:\n",
    "\n",
    "Devlin, J., Chang, M.-W., Lee, K., & Toutanova, K. (2019). BERT: Pre-training of Deep Bidirectional Transformers for Language Understanding. arXiv:1810.04805v2.\n",
    "\n",
    "Gaur, M., Faldu, K., & Sheth, A. (2021). Semantics of the black-box: Can knowledge graphs help make deep learning systems more interpretable and explainable?. IEEE Internet Computing, 25(1), 51-59."
   ]
  },
  {
   "cell_type": "markdown",
   "metadata": {
    "id": "CQnMSAf-h-j4"
   },
   "source": [
    "GitHub link: https://github.com/stvmk/AIDI1002_Final_Project"
   ]
  }
 ],
 "metadata": {
  "accelerator": "GPU",
  "colab": {
   "gpuType": "T4",
   "provenance": []
  },
  "kernelspec": {
   "display_name": "bert_env",
   "language": "python",
   "name": "python3"
  },
  "language_info": {
   "codemirror_mode": {
    "name": "ipython",
    "version": 3
   },
   "file_extension": ".py",
   "mimetype": "text/x-python",
   "name": "python",
   "nbconvert_exporter": "python",
   "pygments_lexer": "ipython3",
   "version": "3.12.7"
  },
  "widgets": {
   "application/vnd.jupyter.widget-state+json": {
    "0087fa612b45411d89ad3e46a431650e": {
     "model_module": "@jupyter-widgets/controls",
     "model_module_version": "1.5.0",
     "model_name": "DescriptionStyleModel",
     "state": {
      "_model_module": "@jupyter-widgets/controls",
      "_model_module_version": "1.5.0",
      "_model_name": "DescriptionStyleModel",
      "_view_count": null,
      "_view_module": "@jupyter-widgets/base",
      "_view_module_version": "1.2.0",
      "_view_name": "StyleView",
      "description_width": ""
     }
    },
    "056dae4606ed44459c75962071599945": {
     "model_module": "@jupyter-widgets/controls",
     "model_module_version": "1.5.0",
     "model_name": "HBoxModel",
     "state": {
      "_dom_classes": [],
      "_model_module": "@jupyter-widgets/controls",
      "_model_module_version": "1.5.0",
      "_model_name": "HBoxModel",
      "_view_count": null,
      "_view_module": "@jupyter-widgets/controls",
      "_view_module_version": "1.5.0",
      "_view_name": "HBoxView",
      "box_style": "",
      "children": [
       "IPY_MODEL_c86608b353e6420db9f16a88e8634505",
       "IPY_MODEL_e6b561db9d7f4d4dab2be80673c7396b",
       "IPY_MODEL_d3a95339aaa14d58bb56e3e815dd159c"
      ],
      "layout": "IPY_MODEL_0e8fdf5be4684826a0cf2b94be9bc601"
     }
    },
    "0e8fdf5be4684826a0cf2b94be9bc601": {
     "model_module": "@jupyter-widgets/base",
     "model_module_version": "1.2.0",
     "model_name": "LayoutModel",
     "state": {
      "_model_module": "@jupyter-widgets/base",
      "_model_module_version": "1.2.0",
      "_model_name": "LayoutModel",
      "_view_count": null,
      "_view_module": "@jupyter-widgets/base",
      "_view_module_version": "1.2.0",
      "_view_name": "LayoutView",
      "align_content": null,
      "align_items": null,
      "align_self": null,
      "border": null,
      "bottom": null,
      "display": null,
      "flex": null,
      "flex_flow": null,
      "grid_area": null,
      "grid_auto_columns": null,
      "grid_auto_flow": null,
      "grid_auto_rows": null,
      "grid_column": null,
      "grid_gap": null,
      "grid_row": null,
      "grid_template_areas": null,
      "grid_template_columns": null,
      "grid_template_rows": null,
      "height": null,
      "justify_content": null,
      "justify_items": null,
      "left": null,
      "margin": null,
      "max_height": null,
      "max_width": null,
      "min_height": null,
      "min_width": null,
      "object_fit": null,
      "object_position": null,
      "order": null,
      "overflow": null,
      "overflow_x": null,
      "overflow_y": null,
      "padding": null,
      "right": null,
      "top": null,
      "visibility": null,
      "width": null
     }
    },
    "1172b201d5d14a02b988594dad091656": {
     "model_module": "@jupyter-widgets/controls",
     "model_module_version": "1.5.0",
     "model_name": "DescriptionStyleModel",
     "state": {
      "_model_module": "@jupyter-widgets/controls",
      "_model_module_version": "1.5.0",
      "_model_name": "DescriptionStyleModel",
      "_view_count": null,
      "_view_module": "@jupyter-widgets/base",
      "_view_module_version": "1.2.0",
      "_view_name": "StyleView",
      "description_width": ""
     }
    },
    "1614aede345e4b1a8808eb2d08373fb1": {
     "model_module": "@jupyter-widgets/controls",
     "model_module_version": "1.5.0",
     "model_name": "DescriptionStyleModel",
     "state": {
      "_model_module": "@jupyter-widgets/controls",
      "_model_module_version": "1.5.0",
      "_model_name": "DescriptionStyleModel",
      "_view_count": null,
      "_view_module": "@jupyter-widgets/base",
      "_view_module_version": "1.2.0",
      "_view_name": "StyleView",
      "description_width": ""
     }
    },
    "173fcda55a0b451dbaf42a91b3afc378": {
     "model_module": "@jupyter-widgets/base",
     "model_module_version": "1.2.0",
     "model_name": "LayoutModel",
     "state": {
      "_model_module": "@jupyter-widgets/base",
      "_model_module_version": "1.2.0",
      "_model_name": "LayoutModel",
      "_view_count": null,
      "_view_module": "@jupyter-widgets/base",
      "_view_module_version": "1.2.0",
      "_view_name": "LayoutView",
      "align_content": null,
      "align_items": null,
      "align_self": null,
      "border": null,
      "bottom": null,
      "display": null,
      "flex": null,
      "flex_flow": null,
      "grid_area": null,
      "grid_auto_columns": null,
      "grid_auto_flow": null,
      "grid_auto_rows": null,
      "grid_column": null,
      "grid_gap": null,
      "grid_row": null,
      "grid_template_areas": null,
      "grid_template_columns": null,
      "grid_template_rows": null,
      "height": null,
      "justify_content": null,
      "justify_items": null,
      "left": null,
      "margin": null,
      "max_height": null,
      "max_width": null,
      "min_height": null,
      "min_width": null,
      "object_fit": null,
      "object_position": null,
      "order": null,
      "overflow": null,
      "overflow_x": null,
      "overflow_y": null,
      "padding": null,
      "right": null,
      "top": null,
      "visibility": null,
      "width": null
     }
    },
    "180a3089bac44f4fb95c418b9736c506": {
     "model_module": "@jupyter-widgets/controls",
     "model_module_version": "1.5.0",
     "model_name": "DescriptionStyleModel",
     "state": {
      "_model_module": "@jupyter-widgets/controls",
      "_model_module_version": "1.5.0",
      "_model_name": "DescriptionStyleModel",
      "_view_count": null,
      "_view_module": "@jupyter-widgets/base",
      "_view_module_version": "1.2.0",
      "_view_name": "StyleView",
      "description_width": ""
     }
    },
    "1975d46dafce40b6805c01a81932b53c": {
     "model_module": "@jupyter-widgets/controls",
     "model_module_version": "1.5.0",
     "model_name": "DescriptionStyleModel",
     "state": {
      "_model_module": "@jupyter-widgets/controls",
      "_model_module_version": "1.5.0",
      "_model_name": "DescriptionStyleModel",
      "_view_count": null,
      "_view_module": "@jupyter-widgets/base",
      "_view_module_version": "1.2.0",
      "_view_name": "StyleView",
      "description_width": ""
     }
    },
    "2e0a0b6416e34a119f74bc8b7d9aeb52": {
     "model_module": "@jupyter-widgets/base",
     "model_module_version": "1.2.0",
     "model_name": "LayoutModel",
     "state": {
      "_model_module": "@jupyter-widgets/base",
      "_model_module_version": "1.2.0",
      "_model_name": "LayoutModel",
      "_view_count": null,
      "_view_module": "@jupyter-widgets/base",
      "_view_module_version": "1.2.0",
      "_view_name": "LayoutView",
      "align_content": null,
      "align_items": null,
      "align_self": null,
      "border": null,
      "bottom": null,
      "display": null,
      "flex": null,
      "flex_flow": null,
      "grid_area": null,
      "grid_auto_columns": null,
      "grid_auto_flow": null,
      "grid_auto_rows": null,
      "grid_column": null,
      "grid_gap": null,
      "grid_row": null,
      "grid_template_areas": null,
      "grid_template_columns": null,
      "grid_template_rows": null,
      "height": null,
      "justify_content": null,
      "justify_items": null,
      "left": null,
      "margin": null,
      "max_height": null,
      "max_width": null,
      "min_height": null,
      "min_width": null,
      "object_fit": null,
      "object_position": null,
      "order": null,
      "overflow": null,
      "overflow_x": null,
      "overflow_y": null,
      "padding": null,
      "right": null,
      "top": null,
      "visibility": null,
      "width": null
     }
    },
    "2f834e5a9b63429d8002ef12f8fc5006": {
     "model_module": "@jupyter-widgets/controls",
     "model_module_version": "1.5.0",
     "model_name": "FloatProgressModel",
     "state": {
      "_dom_classes": [],
      "_model_module": "@jupyter-widgets/controls",
      "_model_module_version": "1.5.0",
      "_model_name": "FloatProgressModel",
      "_view_count": null,
      "_view_module": "@jupyter-widgets/controls",
      "_view_module_version": "1.5.0",
      "_view_name": "ProgressView",
      "bar_style": "success",
      "description": "",
      "description_tooltip": null,
      "layout": "IPY_MODEL_b6357e3c29f24c278747b7847f836488",
      "max": 25000,
      "min": 0,
      "orientation": "horizontal",
      "style": "IPY_MODEL_8e99ee21af3d443ea039455e83bbffa9",
      "value": 25000
     }
    },
    "3bfc3f1a19944d2995bfe9e41df99867": {
     "model_module": "@jupyter-widgets/controls",
     "model_module_version": "1.5.0",
     "model_name": "DescriptionStyleModel",
     "state": {
      "_model_module": "@jupyter-widgets/controls",
      "_model_module_version": "1.5.0",
      "_model_name": "DescriptionStyleModel",
      "_view_count": null,
      "_view_module": "@jupyter-widgets/base",
      "_view_module_version": "1.2.0",
      "_view_name": "StyleView",
      "description_width": ""
     }
    },
    "3c4c6e7e1f0a47aa8f5b34cf90978c46": {
     "model_module": "@jupyter-widgets/controls",
     "model_module_version": "1.5.0",
     "model_name": "HTMLModel",
     "state": {
      "_dom_classes": [],
      "_model_module": "@jupyter-widgets/controls",
      "_model_module_version": "1.5.0",
      "_model_name": "HTMLModel",
      "_view_count": null,
      "_view_module": "@jupyter-widgets/controls",
      "_view_module_version": "1.5.0",
      "_view_name": "HTMLView",
      "description": "",
      "description_tooltip": null,
      "layout": "IPY_MODEL_f2cf6cef1d3e4ea4b972af9a940a0700",
      "placeholder": "​",
      "style": "IPY_MODEL_3bfc3f1a19944d2995bfe9e41df99867",
      "value": " 4.20k/4.20k [00:00&lt;00:00, 285kB/s]"
     }
    },
    "4598483bb1b3400f98d5569f65985634": {
     "model_module": "@jupyter-widgets/base",
     "model_module_version": "1.2.0",
     "model_name": "LayoutModel",
     "state": {
      "_model_module": "@jupyter-widgets/base",
      "_model_module_version": "1.2.0",
      "_model_name": "LayoutModel",
      "_view_count": null,
      "_view_module": "@jupyter-widgets/base",
      "_view_module_version": "1.2.0",
      "_view_name": "LayoutView",
      "align_content": null,
      "align_items": null,
      "align_self": null,
      "border": null,
      "bottom": null,
      "display": null,
      "flex": null,
      "flex_flow": null,
      "grid_area": null,
      "grid_auto_columns": null,
      "grid_auto_flow": null,
      "grid_auto_rows": null,
      "grid_column": null,
      "grid_gap": null,
      "grid_row": null,
      "grid_template_areas": null,
      "grid_template_columns": null,
      "grid_template_rows": null,
      "height": null,
      "justify_content": null,
      "justify_items": null,
      "left": null,
      "margin": null,
      "max_height": null,
      "max_width": null,
      "min_height": null,
      "min_width": null,
      "object_fit": null,
      "object_position": null,
      "order": null,
      "overflow": null,
      "overflow_x": null,
      "overflow_y": null,
      "padding": null,
      "right": null,
      "top": null,
      "visibility": null,
      "width": null
     }
    },
    "46b595f57bd84c0fbe793e121dbed30e": {
     "model_module": "@jupyter-widgets/controls",
     "model_module_version": "1.5.0",
     "model_name": "HTMLModel",
     "state": {
      "_dom_classes": [],
      "_model_module": "@jupyter-widgets/controls",
      "_model_module_version": "1.5.0",
      "_model_name": "HTMLModel",
      "_view_count": null,
      "_view_module": "@jupyter-widgets/controls",
      "_view_module_version": "1.5.0",
      "_view_name": "HTMLView",
      "description": "",
      "description_tooltip": null,
      "layout": "IPY_MODEL_68657879268a47cbaca3ce976058964a",
      "placeholder": "​",
      "style": "IPY_MODEL_50d1325c5e534a14a5c5c2f15faa95a0",
      "value": " 25000/25000 [02:12&lt;00:00, 191.23 examples/s]"
     }
    },
    "4760ba2558d5499581ab2166ce8e1120": {
     "model_module": "@jupyter-widgets/controls",
     "model_module_version": "1.5.0",
     "model_name": "FloatProgressModel",
     "state": {
      "_dom_classes": [],
      "_model_module": "@jupyter-widgets/controls",
      "_model_module_version": "1.5.0",
      "_model_name": "FloatProgressModel",
      "_view_count": null,
      "_view_module": "@jupyter-widgets/controls",
      "_view_module_version": "1.5.0",
      "_view_name": "ProgressView",
      "bar_style": "success",
      "description": "",
      "description_tooltip": null,
      "layout": "IPY_MODEL_8a4d249075b545808684dcbf491f2cf0",
      "max": 4203,
      "min": 0,
      "orientation": "horizontal",
      "style": "IPY_MODEL_bd509cee25dd4f9fb7cdb643eb0a6bbe",
      "value": 4203
     }
    },
    "4878df7ed1e8471dbcc78935dbc57abb": {
     "model_module": "@jupyter-widgets/base",
     "model_module_version": "1.2.0",
     "model_name": "LayoutModel",
     "state": {
      "_model_module": "@jupyter-widgets/base",
      "_model_module_version": "1.2.0",
      "_model_name": "LayoutModel",
      "_view_count": null,
      "_view_module": "@jupyter-widgets/base",
      "_view_module_version": "1.2.0",
      "_view_name": "LayoutView",
      "align_content": null,
      "align_items": null,
      "align_self": null,
      "border": null,
      "bottom": null,
      "display": null,
      "flex": null,
      "flex_flow": null,
      "grid_area": null,
      "grid_auto_columns": null,
      "grid_auto_flow": null,
      "grid_auto_rows": null,
      "grid_column": null,
      "grid_gap": null,
      "grid_row": null,
      "grid_template_areas": null,
      "grid_template_columns": null,
      "grid_template_rows": null,
      "height": null,
      "justify_content": null,
      "justify_items": null,
      "left": null,
      "margin": null,
      "max_height": null,
      "max_width": null,
      "min_height": null,
      "min_width": null,
      "object_fit": null,
      "object_position": null,
      "order": null,
      "overflow": null,
      "overflow_x": null,
      "overflow_y": null,
      "padding": null,
      "right": null,
      "top": null,
      "visibility": null,
      "width": null
     }
    },
    "4f7ac70d3ec84609b2556f75fb666887": {
     "model_module": "@jupyter-widgets/controls",
     "model_module_version": "1.5.0",
     "model_name": "HTMLModel",
     "state": {
      "_dom_classes": [],
      "_model_module": "@jupyter-widgets/controls",
      "_model_module_version": "1.5.0",
      "_model_name": "HTMLModel",
      "_view_count": null,
      "_view_module": "@jupyter-widgets/controls",
      "_view_module_version": "1.5.0",
      "_view_name": "HTMLView",
      "description": "",
      "description_tooltip": null,
      "layout": "IPY_MODEL_d5d0ad9e391d404480afb6b89e9e7eb4",
      "placeholder": "​",
      "style": "IPY_MODEL_0087fa612b45411d89ad3e46a431650e",
      "value": "Downloading builder script: 100%"
     }
    },
    "50d1325c5e534a14a5c5c2f15faa95a0": {
     "model_module": "@jupyter-widgets/controls",
     "model_module_version": "1.5.0",
     "model_name": "DescriptionStyleModel",
     "state": {
      "_model_module": "@jupyter-widgets/controls",
      "_model_module_version": "1.5.0",
      "_model_name": "DescriptionStyleModel",
      "_view_count": null,
      "_view_module": "@jupyter-widgets/base",
      "_view_module_version": "1.2.0",
      "_view_name": "StyleView",
      "description_width": ""
     }
    },
    "5282edd8e3c04b3793efa816a655dd67": {
     "model_module": "@jupyter-widgets/base",
     "model_module_version": "1.2.0",
     "model_name": "LayoutModel",
     "state": {
      "_model_module": "@jupyter-widgets/base",
      "_model_module_version": "1.2.0",
      "_model_name": "LayoutModel",
      "_view_count": null,
      "_view_module": "@jupyter-widgets/base",
      "_view_module_version": "1.2.0",
      "_view_name": "LayoutView",
      "align_content": null,
      "align_items": null,
      "align_self": null,
      "border": null,
      "bottom": null,
      "display": null,
      "flex": null,
      "flex_flow": null,
      "grid_area": null,
      "grid_auto_columns": null,
      "grid_auto_flow": null,
      "grid_auto_rows": null,
      "grid_column": null,
      "grid_gap": null,
      "grid_row": null,
      "grid_template_areas": null,
      "grid_template_columns": null,
      "grid_template_rows": null,
      "height": null,
      "justify_content": null,
      "justify_items": null,
      "left": null,
      "margin": null,
      "max_height": null,
      "max_width": null,
      "min_height": null,
      "min_width": null,
      "object_fit": null,
      "object_position": null,
      "order": null,
      "overflow": null,
      "overflow_x": null,
      "overflow_y": null,
      "padding": null,
      "right": null,
      "top": null,
      "visibility": null,
      "width": null
     }
    },
    "53de8cfbb34f40f1a19085333739e723": {
     "model_module": "@jupyter-widgets/base",
     "model_module_version": "1.2.0",
     "model_name": "LayoutModel",
     "state": {
      "_model_module": "@jupyter-widgets/base",
      "_model_module_version": "1.2.0",
      "_model_name": "LayoutModel",
      "_view_count": null,
      "_view_module": "@jupyter-widgets/base",
      "_view_module_version": "1.2.0",
      "_view_name": "LayoutView",
      "align_content": null,
      "align_items": null,
      "align_self": null,
      "border": null,
      "bottom": null,
      "display": null,
      "flex": null,
      "flex_flow": null,
      "grid_area": null,
      "grid_auto_columns": null,
      "grid_auto_flow": null,
      "grid_auto_rows": null,
      "grid_column": null,
      "grid_gap": null,
      "grid_row": null,
      "grid_template_areas": null,
      "grid_template_columns": null,
      "grid_template_rows": null,
      "height": null,
      "justify_content": null,
      "justify_items": null,
      "left": null,
      "margin": null,
      "max_height": null,
      "max_width": null,
      "min_height": null,
      "min_width": null,
      "object_fit": null,
      "object_position": null,
      "order": null,
      "overflow": null,
      "overflow_x": null,
      "overflow_y": null,
      "padding": null,
      "right": null,
      "top": null,
      "visibility": null,
      "width": null
     }
    },
    "568f370d036a4f1aaa206e18184cc0b8": {
     "model_module": "@jupyter-widgets/controls",
     "model_module_version": "1.5.0",
     "model_name": "HBoxModel",
     "state": {
      "_dom_classes": [],
      "_model_module": "@jupyter-widgets/controls",
      "_model_module_version": "1.5.0",
      "_model_name": "HBoxModel",
      "_view_count": null,
      "_view_module": "@jupyter-widgets/controls",
      "_view_module_version": "1.5.0",
      "_view_name": "HBoxView",
      "box_style": "",
      "children": [
       "IPY_MODEL_dc51469e21604cb097fbd30ecf3f6a0c",
       "IPY_MODEL_d25f35a396414bdfa51db9a225a53af6",
       "IPY_MODEL_7c968f8f6ab7438b8dfbe40192716a14"
      ],
      "layout": "IPY_MODEL_76654c7ed6e141cb9f1805ded1f461a5"
     }
    },
    "65ec141d27fa440b9e29180201f9d268": {
     "model_module": "@jupyter-widgets/base",
     "model_module_version": "1.2.0",
     "model_name": "LayoutModel",
     "state": {
      "_model_module": "@jupyter-widgets/base",
      "_model_module_version": "1.2.0",
      "_model_name": "LayoutModel",
      "_view_count": null,
      "_view_module": "@jupyter-widgets/base",
      "_view_module_version": "1.2.0",
      "_view_name": "LayoutView",
      "align_content": null,
      "align_items": null,
      "align_self": null,
      "border": null,
      "bottom": null,
      "display": null,
      "flex": null,
      "flex_flow": null,
      "grid_area": null,
      "grid_auto_columns": null,
      "grid_auto_flow": null,
      "grid_auto_rows": null,
      "grid_column": null,
      "grid_gap": null,
      "grid_row": null,
      "grid_template_areas": null,
      "grid_template_columns": null,
      "grid_template_rows": null,
      "height": null,
      "justify_content": null,
      "justify_items": null,
      "left": null,
      "margin": null,
      "max_height": null,
      "max_width": null,
      "min_height": null,
      "min_width": null,
      "object_fit": null,
      "object_position": null,
      "order": null,
      "overflow": null,
      "overflow_x": null,
      "overflow_y": null,
      "padding": null,
      "right": null,
      "top": null,
      "visibility": null,
      "width": null
     }
    },
    "68657879268a47cbaca3ce976058964a": {
     "model_module": "@jupyter-widgets/base",
     "model_module_version": "1.2.0",
     "model_name": "LayoutModel",
     "state": {
      "_model_module": "@jupyter-widgets/base",
      "_model_module_version": "1.2.0",
      "_model_name": "LayoutModel",
      "_view_count": null,
      "_view_module": "@jupyter-widgets/base",
      "_view_module_version": "1.2.0",
      "_view_name": "LayoutView",
      "align_content": null,
      "align_items": null,
      "align_self": null,
      "border": null,
      "bottom": null,
      "display": null,
      "flex": null,
      "flex_flow": null,
      "grid_area": null,
      "grid_auto_columns": null,
      "grid_auto_flow": null,
      "grid_auto_rows": null,
      "grid_column": null,
      "grid_gap": null,
      "grid_row": null,
      "grid_template_areas": null,
      "grid_template_columns": null,
      "grid_template_rows": null,
      "height": null,
      "justify_content": null,
      "justify_items": null,
      "left": null,
      "margin": null,
      "max_height": null,
      "max_width": null,
      "min_height": null,
      "min_width": null,
      "object_fit": null,
      "object_position": null,
      "order": null,
      "overflow": null,
      "overflow_x": null,
      "overflow_y": null,
      "padding": null,
      "right": null,
      "top": null,
      "visibility": null,
      "width": null
     }
    },
    "6bc6db8630d04c0ab03d494daca75a1a": {
     "model_module": "@jupyter-widgets/base",
     "model_module_version": "1.2.0",
     "model_name": "LayoutModel",
     "state": {
      "_model_module": "@jupyter-widgets/base",
      "_model_module_version": "1.2.0",
      "_model_name": "LayoutModel",
      "_view_count": null,
      "_view_module": "@jupyter-widgets/base",
      "_view_module_version": "1.2.0",
      "_view_name": "LayoutView",
      "align_content": null,
      "align_items": null,
      "align_self": null,
      "border": null,
      "bottom": null,
      "display": null,
      "flex": null,
      "flex_flow": null,
      "grid_area": null,
      "grid_auto_columns": null,
      "grid_auto_flow": null,
      "grid_auto_rows": null,
      "grid_column": null,
      "grid_gap": null,
      "grid_row": null,
      "grid_template_areas": null,
      "grid_template_columns": null,
      "grid_template_rows": null,
      "height": null,
      "justify_content": null,
      "justify_items": null,
      "left": null,
      "margin": null,
      "max_height": null,
      "max_width": null,
      "min_height": null,
      "min_width": null,
      "object_fit": null,
      "object_position": null,
      "order": null,
      "overflow": null,
      "overflow_x": null,
      "overflow_y": null,
      "padding": null,
      "right": null,
      "top": null,
      "visibility": null,
      "width": null
     }
    },
    "76654c7ed6e141cb9f1805ded1f461a5": {
     "model_module": "@jupyter-widgets/base",
     "model_module_version": "1.2.0",
     "model_name": "LayoutModel",
     "state": {
      "_model_module": "@jupyter-widgets/base",
      "_model_module_version": "1.2.0",
      "_model_name": "LayoutModel",
      "_view_count": null,
      "_view_module": "@jupyter-widgets/base",
      "_view_module_version": "1.2.0",
      "_view_name": "LayoutView",
      "align_content": null,
      "align_items": null,
      "align_self": null,
      "border": null,
      "bottom": null,
      "display": null,
      "flex": null,
      "flex_flow": null,
      "grid_area": null,
      "grid_auto_columns": null,
      "grid_auto_flow": null,
      "grid_auto_rows": null,
      "grid_column": null,
      "grid_gap": null,
      "grid_row": null,
      "grid_template_areas": null,
      "grid_template_columns": null,
      "grid_template_rows": null,
      "height": null,
      "justify_content": null,
      "justify_items": null,
      "left": null,
      "margin": null,
      "max_height": null,
      "max_width": null,
      "min_height": null,
      "min_width": null,
      "object_fit": null,
      "object_position": null,
      "order": null,
      "overflow": null,
      "overflow_x": null,
      "overflow_y": null,
      "padding": null,
      "right": null,
      "top": null,
      "visibility": null,
      "width": null
     }
    },
    "78da8bd05bb04990a2acef11f31c636f": {
     "model_module": "@jupyter-widgets/controls",
     "model_module_version": "1.5.0",
     "model_name": "DescriptionStyleModel",
     "state": {
      "_model_module": "@jupyter-widgets/controls",
      "_model_module_version": "1.5.0",
      "_model_name": "DescriptionStyleModel",
      "_view_count": null,
      "_view_module": "@jupyter-widgets/base",
      "_view_module_version": "1.2.0",
      "_view_name": "StyleView",
      "description_width": ""
     }
    },
    "7c968f8f6ab7438b8dfbe40192716a14": {
     "model_module": "@jupyter-widgets/controls",
     "model_module_version": "1.5.0",
     "model_name": "HTMLModel",
     "state": {
      "_dom_classes": [],
      "_model_module": "@jupyter-widgets/controls",
      "_model_module_version": "1.5.0",
      "_model_name": "HTMLModel",
      "_view_count": null,
      "_view_module": "@jupyter-widgets/controls",
      "_view_module_version": "1.5.0",
      "_view_name": "HTMLView",
      "description": "",
      "description_tooltip": null,
      "layout": "IPY_MODEL_53de8cfbb34f40f1a19085333739e723",
      "placeholder": "​",
      "style": "IPY_MODEL_180a3089bac44f4fb95c418b9736c506",
      "value": " 25000/25000 [02:19&lt;00:00, 187.60 examples/s]"
     }
    },
    "7f2319271e2c4f9da4479c4a62efcafa": {
     "model_module": "@jupyter-widgets/base",
     "model_module_version": "1.2.0",
     "model_name": "LayoutModel",
     "state": {
      "_model_module": "@jupyter-widgets/base",
      "_model_module_version": "1.2.0",
      "_model_name": "LayoutModel",
      "_view_count": null,
      "_view_module": "@jupyter-widgets/base",
      "_view_module_version": "1.2.0",
      "_view_name": "LayoutView",
      "align_content": null,
      "align_items": null,
      "align_self": null,
      "border": null,
      "bottom": null,
      "display": null,
      "flex": null,
      "flex_flow": null,
      "grid_area": null,
      "grid_auto_columns": null,
      "grid_auto_flow": null,
      "grid_auto_rows": null,
      "grid_column": null,
      "grid_gap": null,
      "grid_row": null,
      "grid_template_areas": null,
      "grid_template_columns": null,
      "grid_template_rows": null,
      "height": null,
      "justify_content": null,
      "justify_items": null,
      "left": null,
      "margin": null,
      "max_height": null,
      "max_width": null,
      "min_height": null,
      "min_width": null,
      "object_fit": null,
      "object_position": null,
      "order": null,
      "overflow": null,
      "overflow_x": null,
      "overflow_y": null,
      "padding": null,
      "right": null,
      "top": null,
      "visibility": null,
      "width": null
     }
    },
    "862ad6067b8140198d9bae22b118f164": {
     "model_module": "@jupyter-widgets/controls",
     "model_module_version": "1.5.0",
     "model_name": "DescriptionStyleModel",
     "state": {
      "_model_module": "@jupyter-widgets/controls",
      "_model_module_version": "1.5.0",
      "_model_name": "DescriptionStyleModel",
      "_view_count": null,
      "_view_module": "@jupyter-widgets/base",
      "_view_module_version": "1.2.0",
      "_view_name": "StyleView",
      "description_width": ""
     }
    },
    "88591801df98435eb99e29f4f75644c7": {
     "model_module": "@jupyter-widgets/controls",
     "model_module_version": "1.5.0",
     "model_name": "ProgressStyleModel",
     "state": {
      "_model_module": "@jupyter-widgets/controls",
      "_model_module_version": "1.5.0",
      "_model_name": "ProgressStyleModel",
      "_view_count": null,
      "_view_module": "@jupyter-widgets/base",
      "_view_module_version": "1.2.0",
      "_view_name": "StyleView",
      "bar_color": null,
      "description_width": ""
     }
    },
    "8a4d249075b545808684dcbf491f2cf0": {
     "model_module": "@jupyter-widgets/base",
     "model_module_version": "1.2.0",
     "model_name": "LayoutModel",
     "state": {
      "_model_module": "@jupyter-widgets/base",
      "_model_module_version": "1.2.0",
      "_model_name": "LayoutModel",
      "_view_count": null,
      "_view_module": "@jupyter-widgets/base",
      "_view_module_version": "1.2.0",
      "_view_name": "LayoutView",
      "align_content": null,
      "align_items": null,
      "align_self": null,
      "border": null,
      "bottom": null,
      "display": null,
      "flex": null,
      "flex_flow": null,
      "grid_area": null,
      "grid_auto_columns": null,
      "grid_auto_flow": null,
      "grid_auto_rows": null,
      "grid_column": null,
      "grid_gap": null,
      "grid_row": null,
      "grid_template_areas": null,
      "grid_template_columns": null,
      "grid_template_rows": null,
      "height": null,
      "justify_content": null,
      "justify_items": null,
      "left": null,
      "margin": null,
      "max_height": null,
      "max_width": null,
      "min_height": null,
      "min_width": null,
      "object_fit": null,
      "object_position": null,
      "order": null,
      "overflow": null,
      "overflow_x": null,
      "overflow_y": null,
      "padding": null,
      "right": null,
      "top": null,
      "visibility": null,
      "width": null
     }
    },
    "8e99ee21af3d443ea039455e83bbffa9": {
     "model_module": "@jupyter-widgets/controls",
     "model_module_version": "1.5.0",
     "model_name": "ProgressStyleModel",
     "state": {
      "_model_module": "@jupyter-widgets/controls",
      "_model_module_version": "1.5.0",
      "_model_name": "ProgressStyleModel",
      "_view_count": null,
      "_view_module": "@jupyter-widgets/base",
      "_view_module_version": "1.2.0",
      "_view_name": "StyleView",
      "bar_color": null,
      "description_width": ""
     }
    },
    "8ea9cdd0a92443129441a4a5022125a2": {
     "model_module": "@jupyter-widgets/controls",
     "model_module_version": "1.5.0",
     "model_name": "HTMLModel",
     "state": {
      "_dom_classes": [],
      "_model_module": "@jupyter-widgets/controls",
      "_model_module_version": "1.5.0",
      "_model_name": "HTMLModel",
      "_view_count": null,
      "_view_module": "@jupyter-widgets/controls",
      "_view_module_version": "1.5.0",
      "_view_name": "HTMLView",
      "description": "",
      "description_tooltip": null,
      "layout": "IPY_MODEL_65ec141d27fa440b9e29180201f9d268",
      "placeholder": "​",
      "style": "IPY_MODEL_862ad6067b8140198d9bae22b118f164",
      "value": "Map: 100%"
     }
    },
    "ab9d7f284a10438c8d0d1fbfde97f82d": {
     "model_module": "@jupyter-widgets/controls",
     "model_module_version": "1.5.0",
     "model_name": "FloatProgressModel",
     "state": {
      "_dom_classes": [],
      "_model_module": "@jupyter-widgets/controls",
      "_model_module_version": "1.5.0",
      "_model_name": "FloatProgressModel",
      "_view_count": null,
      "_view_module": "@jupyter-widgets/controls",
      "_view_module_version": "1.5.0",
      "_view_name": "ProgressView",
      "bar_style": "success",
      "description": "",
      "description_tooltip": null,
      "layout": "IPY_MODEL_7f2319271e2c4f9da4479c4a62efcafa",
      "max": 50000,
      "min": 0,
      "orientation": "horizontal",
      "style": "IPY_MODEL_88591801df98435eb99e29f4f75644c7",
      "value": 50000
     }
    },
    "b21259fd93dd4434a06cb010ae1cb57c": {
     "model_module": "@jupyter-widgets/base",
     "model_module_version": "1.2.0",
     "model_name": "LayoutModel",
     "state": {
      "_model_module": "@jupyter-widgets/base",
      "_model_module_version": "1.2.0",
      "_model_name": "LayoutModel",
      "_view_count": null,
      "_view_module": "@jupyter-widgets/base",
      "_view_module_version": "1.2.0",
      "_view_name": "LayoutView",
      "align_content": null,
      "align_items": null,
      "align_self": null,
      "border": null,
      "bottom": null,
      "display": null,
      "flex": null,
      "flex_flow": null,
      "grid_area": null,
      "grid_auto_columns": null,
      "grid_auto_flow": null,
      "grid_auto_rows": null,
      "grid_column": null,
      "grid_gap": null,
      "grid_row": null,
      "grid_template_areas": null,
      "grid_template_columns": null,
      "grid_template_rows": null,
      "height": null,
      "justify_content": null,
      "justify_items": null,
      "left": null,
      "margin": null,
      "max_height": null,
      "max_width": null,
      "min_height": null,
      "min_width": null,
      "object_fit": null,
      "object_position": null,
      "order": null,
      "overflow": null,
      "overflow_x": null,
      "overflow_y": null,
      "padding": null,
      "right": null,
      "top": null,
      "visibility": null,
      "width": null
     }
    },
    "b6357e3c29f24c278747b7847f836488": {
     "model_module": "@jupyter-widgets/base",
     "model_module_version": "1.2.0",
     "model_name": "LayoutModel",
     "state": {
      "_model_module": "@jupyter-widgets/base",
      "_model_module_version": "1.2.0",
      "_model_name": "LayoutModel",
      "_view_count": null,
      "_view_module": "@jupyter-widgets/base",
      "_view_module_version": "1.2.0",
      "_view_name": "LayoutView",
      "align_content": null,
      "align_items": null,
      "align_self": null,
      "border": null,
      "bottom": null,
      "display": null,
      "flex": null,
      "flex_flow": null,
      "grid_area": null,
      "grid_auto_columns": null,
      "grid_auto_flow": null,
      "grid_auto_rows": null,
      "grid_column": null,
      "grid_gap": null,
      "grid_row": null,
      "grid_template_areas": null,
      "grid_template_columns": null,
      "grid_template_rows": null,
      "height": null,
      "justify_content": null,
      "justify_items": null,
      "left": null,
      "margin": null,
      "max_height": null,
      "max_width": null,
      "min_height": null,
      "min_width": null,
      "object_fit": null,
      "object_position": null,
      "order": null,
      "overflow": null,
      "overflow_x": null,
      "overflow_y": null,
      "padding": null,
      "right": null,
      "top": null,
      "visibility": null,
      "width": null
     }
    },
    "b69867fdffbf4491a03c6428ab0c24e7": {
     "model_module": "@jupyter-widgets/base",
     "model_module_version": "1.2.0",
     "model_name": "LayoutModel",
     "state": {
      "_model_module": "@jupyter-widgets/base",
      "_model_module_version": "1.2.0",
      "_model_name": "LayoutModel",
      "_view_count": null,
      "_view_module": "@jupyter-widgets/base",
      "_view_module_version": "1.2.0",
      "_view_name": "LayoutView",
      "align_content": null,
      "align_items": null,
      "align_self": null,
      "border": null,
      "bottom": null,
      "display": null,
      "flex": null,
      "flex_flow": null,
      "grid_area": null,
      "grid_auto_columns": null,
      "grid_auto_flow": null,
      "grid_auto_rows": null,
      "grid_column": null,
      "grid_gap": null,
      "grid_row": null,
      "grid_template_areas": null,
      "grid_template_columns": null,
      "grid_template_rows": null,
      "height": null,
      "justify_content": null,
      "justify_items": null,
      "left": null,
      "margin": null,
      "max_height": null,
      "max_width": null,
      "min_height": null,
      "min_width": null,
      "object_fit": null,
      "object_position": null,
      "order": null,
      "overflow": null,
      "overflow_x": null,
      "overflow_y": null,
      "padding": null,
      "right": null,
      "top": null,
      "visibility": null,
      "width": null
     }
    },
    "b94ebbe784bc410f8d58d71681361756": {
     "model_module": "@jupyter-widgets/controls",
     "model_module_version": "1.5.0",
     "model_name": "DescriptionStyleModel",
     "state": {
      "_model_module": "@jupyter-widgets/controls",
      "_model_module_version": "1.5.0",
      "_model_name": "DescriptionStyleModel",
      "_view_count": null,
      "_view_module": "@jupyter-widgets/base",
      "_view_module_version": "1.2.0",
      "_view_name": "StyleView",
      "description_width": ""
     }
    },
    "ba918230f75d4b71b3a15e1590800900": {
     "model_module": "@jupyter-widgets/controls",
     "model_module_version": "1.5.0",
     "model_name": "HBoxModel",
     "state": {
      "_dom_classes": [],
      "_model_module": "@jupyter-widgets/controls",
      "_model_module_version": "1.5.0",
      "_model_name": "HBoxModel",
      "_view_count": null,
      "_view_module": "@jupyter-widgets/controls",
      "_view_module_version": "1.5.0",
      "_view_name": "HBoxView",
      "box_style": "",
      "children": [
       "IPY_MODEL_e5fd25930c9148fd96174d7e2aea6433",
       "IPY_MODEL_ab9d7f284a10438c8d0d1fbfde97f82d",
       "IPY_MODEL_e64a0c05e296470caa29826935bd307e"
      ],
      "layout": "IPY_MODEL_4598483bb1b3400f98d5569f65985634"
     }
    },
    "bd509cee25dd4f9fb7cdb643eb0a6bbe": {
     "model_module": "@jupyter-widgets/controls",
     "model_module_version": "1.5.0",
     "model_name": "ProgressStyleModel",
     "state": {
      "_model_module": "@jupyter-widgets/controls",
      "_model_module_version": "1.5.0",
      "_model_name": "ProgressStyleModel",
      "_view_count": null,
      "_view_module": "@jupyter-widgets/base",
      "_view_module_version": "1.2.0",
      "_view_name": "StyleView",
      "bar_color": null,
      "description_width": ""
     }
    },
    "c319c88576554f1f943f7bf27b50cc62": {
     "model_module": "@jupyter-widgets/controls",
     "model_module_version": "1.5.0",
     "model_name": "ProgressStyleModel",
     "state": {
      "_model_module": "@jupyter-widgets/controls",
      "_model_module_version": "1.5.0",
      "_model_name": "ProgressStyleModel",
      "_view_count": null,
      "_view_module": "@jupyter-widgets/base",
      "_view_module_version": "1.2.0",
      "_view_name": "StyleView",
      "bar_color": null,
      "description_width": ""
     }
    },
    "c82491b1326247058142da13c64bee6a": {
     "model_module": "@jupyter-widgets/controls",
     "model_module_version": "1.5.0",
     "model_name": "HBoxModel",
     "state": {
      "_dom_classes": [],
      "_model_module": "@jupyter-widgets/controls",
      "_model_module_version": "1.5.0",
      "_model_name": "HBoxModel",
      "_view_count": null,
      "_view_module": "@jupyter-widgets/controls",
      "_view_module_version": "1.5.0",
      "_view_name": "HBoxView",
      "box_style": "",
      "children": [
       "IPY_MODEL_8ea9cdd0a92443129441a4a5022125a2",
       "IPY_MODEL_2f834e5a9b63429d8002ef12f8fc5006",
       "IPY_MODEL_46b595f57bd84c0fbe793e121dbed30e"
      ],
      "layout": "IPY_MODEL_4878df7ed1e8471dbcc78935dbc57abb"
     }
    },
    "c86608b353e6420db9f16a88e8634505": {
     "model_module": "@jupyter-widgets/controls",
     "model_module_version": "1.5.0",
     "model_name": "HTMLModel",
     "state": {
      "_dom_classes": [],
      "_model_module": "@jupyter-widgets/controls",
      "_model_module_version": "1.5.0",
      "_model_name": "HTMLModel",
      "_view_count": null,
      "_view_module": "@jupyter-widgets/controls",
      "_view_module_version": "1.5.0",
      "_view_name": "HTMLView",
      "description": "",
      "description_tooltip": null,
      "layout": "IPY_MODEL_173fcda55a0b451dbaf42a91b3afc378",
      "placeholder": "​",
      "style": "IPY_MODEL_78da8bd05bb04990a2acef11f31c636f",
      "value": "model.safetensors: 100%"
     }
    },
    "d09bb1f0f49f417788c2eed5de327681": {
     "model_module": "@jupyter-widgets/controls",
     "model_module_version": "1.5.0",
     "model_name": "ProgressStyleModel",
     "state": {
      "_model_module": "@jupyter-widgets/controls",
      "_model_module_version": "1.5.0",
      "_model_name": "ProgressStyleModel",
      "_view_count": null,
      "_view_module": "@jupyter-widgets/base",
      "_view_module_version": "1.2.0",
      "_view_name": "StyleView",
      "bar_color": null,
      "description_width": ""
     }
    },
    "d25f35a396414bdfa51db9a225a53af6": {
     "model_module": "@jupyter-widgets/controls",
     "model_module_version": "1.5.0",
     "model_name": "FloatProgressModel",
     "state": {
      "_dom_classes": [],
      "_model_module": "@jupyter-widgets/controls",
      "_model_module_version": "1.5.0",
      "_model_name": "FloatProgressModel",
      "_view_count": null,
      "_view_module": "@jupyter-widgets/controls",
      "_view_module_version": "1.5.0",
      "_view_name": "ProgressView",
      "bar_style": "success",
      "description": "",
      "description_tooltip": null,
      "layout": "IPY_MODEL_b21259fd93dd4434a06cb010ae1cb57c",
      "max": 25000,
      "min": 0,
      "orientation": "horizontal",
      "style": "IPY_MODEL_d09bb1f0f49f417788c2eed5de327681",
      "value": 25000
     }
    },
    "d3a95339aaa14d58bb56e3e815dd159c": {
     "model_module": "@jupyter-widgets/controls",
     "model_module_version": "1.5.0",
     "model_name": "HTMLModel",
     "state": {
      "_dom_classes": [],
      "_model_module": "@jupyter-widgets/controls",
      "_model_module_version": "1.5.0",
      "_model_name": "HTMLModel",
      "_view_count": null,
      "_view_module": "@jupyter-widgets/controls",
      "_view_module_version": "1.5.0",
      "_view_name": "HTMLView",
      "description": "",
      "description_tooltip": null,
      "layout": "IPY_MODEL_f9eede3732d045f6b28f1b6f3421afdd",
      "placeholder": "​",
      "style": "IPY_MODEL_1975d46dafce40b6805c01a81932b53c",
      "value": " 440M/440M [00:02&lt;00:00, 234MB/s]"
     }
    },
    "d5d0ad9e391d404480afb6b89e9e7eb4": {
     "model_module": "@jupyter-widgets/base",
     "model_module_version": "1.2.0",
     "model_name": "LayoutModel",
     "state": {
      "_model_module": "@jupyter-widgets/base",
      "_model_module_version": "1.2.0",
      "_model_name": "LayoutModel",
      "_view_count": null,
      "_view_module": "@jupyter-widgets/base",
      "_view_module_version": "1.2.0",
      "_view_name": "LayoutView",
      "align_content": null,
      "align_items": null,
      "align_self": null,
      "border": null,
      "bottom": null,
      "display": null,
      "flex": null,
      "flex_flow": null,
      "grid_area": null,
      "grid_auto_columns": null,
      "grid_auto_flow": null,
      "grid_auto_rows": null,
      "grid_column": null,
      "grid_gap": null,
      "grid_row": null,
      "grid_template_areas": null,
      "grid_template_columns": null,
      "grid_template_rows": null,
      "height": null,
      "justify_content": null,
      "justify_items": null,
      "left": null,
      "margin": null,
      "max_height": null,
      "max_width": null,
      "min_height": null,
      "min_width": null,
      "object_fit": null,
      "object_position": null,
      "order": null,
      "overflow": null,
      "overflow_x": null,
      "overflow_y": null,
      "padding": null,
      "right": null,
      "top": null,
      "visibility": null,
      "width": null
     }
    },
    "dc51469e21604cb097fbd30ecf3f6a0c": {
     "model_module": "@jupyter-widgets/controls",
     "model_module_version": "1.5.0",
     "model_name": "HTMLModel",
     "state": {
      "_dom_classes": [],
      "_model_module": "@jupyter-widgets/controls",
      "_model_module_version": "1.5.0",
      "_model_name": "HTMLModel",
      "_view_count": null,
      "_view_module": "@jupyter-widgets/controls",
      "_view_module_version": "1.5.0",
      "_view_name": "HTMLView",
      "description": "",
      "description_tooltip": null,
      "layout": "IPY_MODEL_b69867fdffbf4491a03c6428ab0c24e7",
      "placeholder": "​",
      "style": "IPY_MODEL_1614aede345e4b1a8808eb2d08373fb1",
      "value": "Map: 100%"
     }
    },
    "e5fd25930c9148fd96174d7e2aea6433": {
     "model_module": "@jupyter-widgets/controls",
     "model_module_version": "1.5.0",
     "model_name": "HTMLModel",
     "state": {
      "_dom_classes": [],
      "_model_module": "@jupyter-widgets/controls",
      "_model_module_version": "1.5.0",
      "_model_name": "HTMLModel",
      "_view_count": null,
      "_view_module": "@jupyter-widgets/controls",
      "_view_module_version": "1.5.0",
      "_view_name": "HTMLView",
      "description": "",
      "description_tooltip": null,
      "layout": "IPY_MODEL_e8d2d33ea81042babe19735f17cb8d2a",
      "placeholder": "​",
      "style": "IPY_MODEL_1172b201d5d14a02b988594dad091656",
      "value": "Map: 100%"
     }
    },
    "e64a0c05e296470caa29826935bd307e": {
     "model_module": "@jupyter-widgets/controls",
     "model_module_version": "1.5.0",
     "model_name": "HTMLModel",
     "state": {
      "_dom_classes": [],
      "_model_module": "@jupyter-widgets/controls",
      "_model_module_version": "1.5.0",
      "_model_name": "HTMLModel",
      "_view_count": null,
      "_view_module": "@jupyter-widgets/controls",
      "_view_module_version": "1.5.0",
      "_view_name": "HTMLView",
      "description": "",
      "description_tooltip": null,
      "layout": "IPY_MODEL_6bc6db8630d04c0ab03d494daca75a1a",
      "placeholder": "​",
      "style": "IPY_MODEL_b94ebbe784bc410f8d58d71681361756",
      "value": " 50000/50000 [04:34&lt;00:00, 174.13 examples/s]"
     }
    },
    "e6b561db9d7f4d4dab2be80673c7396b": {
     "model_module": "@jupyter-widgets/controls",
     "model_module_version": "1.5.0",
     "model_name": "FloatProgressModel",
     "state": {
      "_dom_classes": [],
      "_model_module": "@jupyter-widgets/controls",
      "_model_module_version": "1.5.0",
      "_model_name": "FloatProgressModel",
      "_view_count": null,
      "_view_module": "@jupyter-widgets/controls",
      "_view_module_version": "1.5.0",
      "_view_name": "ProgressView",
      "bar_style": "success",
      "description": "",
      "description_tooltip": null,
      "layout": "IPY_MODEL_5282edd8e3c04b3793efa816a655dd67",
      "max": 440449768,
      "min": 0,
      "orientation": "horizontal",
      "style": "IPY_MODEL_c319c88576554f1f943f7bf27b50cc62",
      "value": 440449768
     }
    },
    "e8d2d33ea81042babe19735f17cb8d2a": {
     "model_module": "@jupyter-widgets/base",
     "model_module_version": "1.2.0",
     "model_name": "LayoutModel",
     "state": {
      "_model_module": "@jupyter-widgets/base",
      "_model_module_version": "1.2.0",
      "_model_name": "LayoutModel",
      "_view_count": null,
      "_view_module": "@jupyter-widgets/base",
      "_view_module_version": "1.2.0",
      "_view_name": "LayoutView",
      "align_content": null,
      "align_items": null,
      "align_self": null,
      "border": null,
      "bottom": null,
      "display": null,
      "flex": null,
      "flex_flow": null,
      "grid_area": null,
      "grid_auto_columns": null,
      "grid_auto_flow": null,
      "grid_auto_rows": null,
      "grid_column": null,
      "grid_gap": null,
      "grid_row": null,
      "grid_template_areas": null,
      "grid_template_columns": null,
      "grid_template_rows": null,
      "height": null,
      "justify_content": null,
      "justify_items": null,
      "left": null,
      "margin": null,
      "max_height": null,
      "max_width": null,
      "min_height": null,
      "min_width": null,
      "object_fit": null,
      "object_position": null,
      "order": null,
      "overflow": null,
      "overflow_x": null,
      "overflow_y": null,
      "padding": null,
      "right": null,
      "top": null,
      "visibility": null,
      "width": null
     }
    },
    "f2438baaf6334cc487d768b8345b2470": {
     "model_module": "@jupyter-widgets/controls",
     "model_module_version": "1.5.0",
     "model_name": "HBoxModel",
     "state": {
      "_dom_classes": [],
      "_model_module": "@jupyter-widgets/controls",
      "_model_module_version": "1.5.0",
      "_model_name": "HBoxModel",
      "_view_count": null,
      "_view_module": "@jupyter-widgets/controls",
      "_view_module_version": "1.5.0",
      "_view_name": "HBoxView",
      "box_style": "",
      "children": [
       "IPY_MODEL_4f7ac70d3ec84609b2556f75fb666887",
       "IPY_MODEL_4760ba2558d5499581ab2166ce8e1120",
       "IPY_MODEL_3c4c6e7e1f0a47aa8f5b34cf90978c46"
      ],
      "layout": "IPY_MODEL_2e0a0b6416e34a119f74bc8b7d9aeb52"
     }
    },
    "f2cf6cef1d3e4ea4b972af9a940a0700": {
     "model_module": "@jupyter-widgets/base",
     "model_module_version": "1.2.0",
     "model_name": "LayoutModel",
     "state": {
      "_model_module": "@jupyter-widgets/base",
      "_model_module_version": "1.2.0",
      "_model_name": "LayoutModel",
      "_view_count": null,
      "_view_module": "@jupyter-widgets/base",
      "_view_module_version": "1.2.0",
      "_view_name": "LayoutView",
      "align_content": null,
      "align_items": null,
      "align_self": null,
      "border": null,
      "bottom": null,
      "display": null,
      "flex": null,
      "flex_flow": null,
      "grid_area": null,
      "grid_auto_columns": null,
      "grid_auto_flow": null,
      "grid_auto_rows": null,
      "grid_column": null,
      "grid_gap": null,
      "grid_row": null,
      "grid_template_areas": null,
      "grid_template_columns": null,
      "grid_template_rows": null,
      "height": null,
      "justify_content": null,
      "justify_items": null,
      "left": null,
      "margin": null,
      "max_height": null,
      "max_width": null,
      "min_height": null,
      "min_width": null,
      "object_fit": null,
      "object_position": null,
      "order": null,
      "overflow": null,
      "overflow_x": null,
      "overflow_y": null,
      "padding": null,
      "right": null,
      "top": null,
      "visibility": null,
      "width": null
     }
    },
    "f9eede3732d045f6b28f1b6f3421afdd": {
     "model_module": "@jupyter-widgets/base",
     "model_module_version": "1.2.0",
     "model_name": "LayoutModel",
     "state": {
      "_model_module": "@jupyter-widgets/base",
      "_model_module_version": "1.2.0",
      "_model_name": "LayoutModel",
      "_view_count": null,
      "_view_module": "@jupyter-widgets/base",
      "_view_module_version": "1.2.0",
      "_view_name": "LayoutView",
      "align_content": null,
      "align_items": null,
      "align_self": null,
      "border": null,
      "bottom": null,
      "display": null,
      "flex": null,
      "flex_flow": null,
      "grid_area": null,
      "grid_auto_columns": null,
      "grid_auto_flow": null,
      "grid_auto_rows": null,
      "grid_column": null,
      "grid_gap": null,
      "grid_row": null,
      "grid_template_areas": null,
      "grid_template_columns": null,
      "grid_template_rows": null,
      "height": null,
      "justify_content": null,
      "justify_items": null,
      "left": null,
      "margin": null,
      "max_height": null,
      "max_width": null,
      "min_height": null,
      "min_width": null,
      "object_fit": null,
      "object_position": null,
      "order": null,
      "overflow": null,
      "overflow_x": null,
      "overflow_y": null,
      "padding": null,
      "right": null,
      "top": null,
      "visibility": null,
      "width": null
     }
    }
   }
  }
 },
 "nbformat": 4,
 "nbformat_minor": 0
}
